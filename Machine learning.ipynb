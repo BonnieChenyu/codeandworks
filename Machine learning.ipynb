{
  "cells": [
    {
      "cell_type": "code",
      "execution_count": null,
      "metadata": {
        "id": "2678b24c"
      },
      "outputs": [],
      "source": [
        "import sys\n",
        "import numpy as np\n",
        "import pandas as pd\n",
        "import matplotlib.pyplot as plt\n",
        "import sklearn\n",
        "import time\n",
        "np.random.seed(42)"
      ],
      "id": "2678b24c"
    },
    {
      "cell_type": "code",
      "execution_count": null,
      "metadata": {
        "colab": {
          "base_uri": "https://localhost:8080/"
        },
        "id": "fcc650fe",
        "outputId": "1cd18807-6b57-4638-81ec-cc938131c16d"
      },
      "outputs": [
        {
          "name": "stdout",
          "output_type": "stream",
          "text": [
            "Collecting tensorflow==2.7.0\n",
            "  Downloading tensorflow-2.7.0-cp37-cp37m-manylinux2010_x86_64.whl (489.6 MB)\n",
            "\u001b[K     |████████████████████████████████| 489.6 MB 17 kB/s \n",
            "\u001b[?25hRequirement already satisfied: keras-preprocessing>=1.1.1 in /usr/local/lib/python3.7/dist-packages (from tensorflow==2.7.0) (1.1.2)\n",
            "Requirement already satisfied: six>=1.12.0 in /usr/local/lib/python3.7/dist-packages (from tensorflow==2.7.0) (1.15.0)\n",
            "Requirement already satisfied: termcolor>=1.1.0 in /usr/local/lib/python3.7/dist-packages (from tensorflow==2.7.0) (1.1.0)\n",
            "Collecting tensorflow-estimator<2.8,~=2.7.0rc0\n",
            "  Downloading tensorflow_estimator-2.7.0-py2.py3-none-any.whl (463 kB)\n",
            "\u001b[K     |████████████████████████████████| 463 kB 76.4 MB/s \n",
            "\u001b[?25hRequirement already satisfied: libclang>=9.0.1 in /usr/local/lib/python3.7/dist-packages (from tensorflow==2.7.0) (14.0.1)\n",
            "Requirement already satisfied: grpcio<2.0,>=1.24.3 in /usr/local/lib/python3.7/dist-packages (from tensorflow==2.7.0) (1.46.1)\n",
            "Requirement already satisfied: h5py>=2.9.0 in /usr/local/lib/python3.7/dist-packages (from tensorflow==2.7.0) (3.1.0)\n",
            "Requirement already satisfied: wheel<1.0,>=0.32.0 in /usr/local/lib/python3.7/dist-packages (from tensorflow==2.7.0) (0.37.1)\n",
            "Requirement already satisfied: opt-einsum>=2.3.2 in /usr/local/lib/python3.7/dist-packages (from tensorflow==2.7.0) (3.3.0)\n",
            "Requirement already satisfied: tensorboard~=2.6 in /usr/local/lib/python3.7/dist-packages (from tensorflow==2.7.0) (2.8.0)\n",
            "Collecting keras<2.8,>=2.7.0rc0\n",
            "  Downloading keras-2.7.0-py2.py3-none-any.whl (1.3 MB)\n",
            "\u001b[K     |████████████████████████████████| 1.3 MB 72.9 MB/s \n",
            "\u001b[?25hRequirement already satisfied: flatbuffers<3.0,>=1.12 in /usr/local/lib/python3.7/dist-packages (from tensorflow==2.7.0) (2.0)\n",
            "Requirement already satisfied: tensorflow-io-gcs-filesystem>=0.21.0 in /usr/local/lib/python3.7/dist-packages (from tensorflow==2.7.0) (0.25.0)\n",
            "Requirement already satisfied: wrapt>=1.11.0 in /usr/local/lib/python3.7/dist-packages (from tensorflow==2.7.0) (1.14.1)\n",
            "Requirement already satisfied: typing-extensions>=3.6.6 in /usr/local/lib/python3.7/dist-packages (from tensorflow==2.7.0) (4.2.0)\n",
            "Requirement already satisfied: google-pasta>=0.1.1 in /usr/local/lib/python3.7/dist-packages (from tensorflow==2.7.0) (0.2.0)\n",
            "Requirement already satisfied: numpy>=1.14.5 in /usr/local/lib/python3.7/dist-packages (from tensorflow==2.7.0) (1.21.6)\n",
            "Collecting gast<0.5.0,>=0.2.1\n",
            "  Downloading gast-0.4.0-py3-none-any.whl (9.8 kB)\n",
            "Requirement already satisfied: protobuf>=3.9.2 in /usr/local/lib/python3.7/dist-packages (from tensorflow==2.7.0) (3.17.3)\n",
            "Requirement already satisfied: absl-py>=0.4.0 in /usr/local/lib/python3.7/dist-packages (from tensorflow==2.7.0) (1.0.0)\n",
            "Requirement already satisfied: astunparse>=1.6.0 in /usr/local/lib/python3.7/dist-packages (from tensorflow==2.7.0) (1.6.3)\n",
            "Requirement already satisfied: cached-property in /usr/local/lib/python3.7/dist-packages (from h5py>=2.9.0->tensorflow==2.7.0) (1.5.2)\n",
            "Requirement already satisfied: google-auth<3,>=1.6.3 in /usr/local/lib/python3.7/dist-packages (from tensorboard~=2.6->tensorflow==2.7.0) (1.35.0)\n",
            "Requirement already satisfied: google-auth-oauthlib<0.5,>=0.4.1 in /usr/local/lib/python3.7/dist-packages (from tensorboard~=2.6->tensorflow==2.7.0) (0.4.6)\n",
            "Requirement already satisfied: werkzeug>=0.11.15 in /usr/local/lib/python3.7/dist-packages (from tensorboard~=2.6->tensorflow==2.7.0) (1.0.1)\n",
            "Requirement already satisfied: setuptools>=41.0.0 in /usr/local/lib/python3.7/dist-packages (from tensorboard~=2.6->tensorflow==2.7.0) (57.4.0)\n",
            "Requirement already satisfied: tensorboard-data-server<0.7.0,>=0.6.0 in /usr/local/lib/python3.7/dist-packages (from tensorboard~=2.6->tensorflow==2.7.0) (0.6.1)\n",
            "Requirement already satisfied: tensorboard-plugin-wit>=1.6.0 in /usr/local/lib/python3.7/dist-packages (from tensorboard~=2.6->tensorflow==2.7.0) (1.8.1)\n",
            "Requirement already satisfied: markdown>=2.6.8 in /usr/local/lib/python3.7/dist-packages (from tensorboard~=2.6->tensorflow==2.7.0) (3.3.7)\n",
            "Requirement already satisfied: requests<3,>=2.21.0 in /usr/local/lib/python3.7/dist-packages (from tensorboard~=2.6->tensorflow==2.7.0) (2.23.0)\n",
            "Requirement already satisfied: rsa<5,>=3.1.4 in /usr/local/lib/python3.7/dist-packages (from google-auth<3,>=1.6.3->tensorboard~=2.6->tensorflow==2.7.0) (4.8)\n",
            "Requirement already satisfied: pyasn1-modules>=0.2.1 in /usr/local/lib/python3.7/dist-packages (from google-auth<3,>=1.6.3->tensorboard~=2.6->tensorflow==2.7.0) (0.2.8)\n",
            "Requirement already satisfied: cachetools<5.0,>=2.0.0 in /usr/local/lib/python3.7/dist-packages (from google-auth<3,>=1.6.3->tensorboard~=2.6->tensorflow==2.7.0) (4.2.4)\n",
            "Requirement already satisfied: requests-oauthlib>=0.7.0 in /usr/local/lib/python3.7/dist-packages (from google-auth-oauthlib<0.5,>=0.4.1->tensorboard~=2.6->tensorflow==2.7.0) (1.3.1)\n",
            "Requirement already satisfied: importlib-metadata>=4.4 in /usr/local/lib/python3.7/dist-packages (from markdown>=2.6.8->tensorboard~=2.6->tensorflow==2.7.0) (4.11.3)\n",
            "Requirement already satisfied: zipp>=0.5 in /usr/local/lib/python3.7/dist-packages (from importlib-metadata>=4.4->markdown>=2.6.8->tensorboard~=2.6->tensorflow==2.7.0) (3.8.0)\n",
            "Requirement already satisfied: pyasn1<0.5.0,>=0.4.6 in /usr/local/lib/python3.7/dist-packages (from pyasn1-modules>=0.2.1->google-auth<3,>=1.6.3->tensorboard~=2.6->tensorflow==2.7.0) (0.4.8)\n",
            "Requirement already satisfied: certifi>=2017.4.17 in /usr/local/lib/python3.7/dist-packages (from requests<3,>=2.21.0->tensorboard~=2.6->tensorflow==2.7.0) (2021.10.8)\n",
            "Requirement already satisfied: idna<3,>=2.5 in /usr/local/lib/python3.7/dist-packages (from requests<3,>=2.21.0->tensorboard~=2.6->tensorflow==2.7.0) (2.10)\n",
            "Requirement already satisfied: chardet<4,>=3.0.2 in /usr/local/lib/python3.7/dist-packages (from requests<3,>=2.21.0->tensorboard~=2.6->tensorflow==2.7.0) (3.0.4)\n",
            "Requirement already satisfied: urllib3!=1.25.0,!=1.25.1,<1.26,>=1.21.1 in /usr/local/lib/python3.7/dist-packages (from requests<3,>=2.21.0->tensorboard~=2.6->tensorflow==2.7.0) (1.24.3)\n",
            "Requirement already satisfied: oauthlib>=3.0.0 in /usr/local/lib/python3.7/dist-packages (from requests-oauthlib>=0.7.0->google-auth-oauthlib<0.5,>=0.4.1->tensorboard~=2.6->tensorflow==2.7.0) (3.2.0)\n",
            "Installing collected packages: tensorflow-estimator, keras, gast, tensorflow\n",
            "  Attempting uninstall: tensorflow-estimator\n",
            "    Found existing installation: tensorflow-estimator 2.8.0\n",
            "    Uninstalling tensorflow-estimator-2.8.0:\n",
            "      Successfully uninstalled tensorflow-estimator-2.8.0\n",
            "  Attempting uninstall: keras\n",
            "    Found existing installation: keras 2.8.0\n",
            "    Uninstalling keras-2.8.0:\n",
            "      Successfully uninstalled keras-2.8.0\n",
            "  Attempting uninstall: gast\n",
            "    Found existing installation: gast 0.5.3\n",
            "    Uninstalling gast-0.5.3:\n",
            "      Successfully uninstalled gast-0.5.3\n",
            "  Attempting uninstall: tensorflow\n",
            "    Found existing installation: tensorflow 2.8.0+zzzcolab20220506162203\n",
            "    Uninstalling tensorflow-2.8.0+zzzcolab20220506162203:\n",
            "      Successfully uninstalled tensorflow-2.8.0+zzzcolab20220506162203\n",
            "Successfully installed gast-0.4.0 keras-2.7.0 tensorflow-2.7.0 tensorflow-estimator-2.7.0\n",
            "Collecting scikeras\n",
            "  Downloading scikeras-0.8.0-py3-none-any.whl (27 kB)\n",
            "Requirement already satisfied: importlib-metadata>=3 in /usr/local/lib/python3.7/dist-packages (from scikeras) (4.11.3)\n",
            "Requirement already satisfied: packaging<22.0,>=0.21 in /usr/local/lib/python3.7/dist-packages (from scikeras) (21.3)\n",
            "Requirement already satisfied: scikit-learn>=1.0.0 in /usr/local/lib/python3.7/dist-packages (from scikeras) (1.0.2)\n",
            "Requirement already satisfied: typing-extensions>=3.6.4 in /usr/local/lib/python3.7/dist-packages (from importlib-metadata>=3->scikeras) (4.2.0)\n",
            "Requirement already satisfied: zipp>=0.5 in /usr/local/lib/python3.7/dist-packages (from importlib-metadata>=3->scikeras) (3.8.0)\n",
            "Requirement already satisfied: pyparsing!=3.0.5,>=2.0.2 in /usr/local/lib/python3.7/dist-packages (from packaging<22.0,>=0.21->scikeras) (3.0.9)\n",
            "Requirement already satisfied: numpy>=1.14.6 in /usr/local/lib/python3.7/dist-packages (from scikit-learn>=1.0.0->scikeras) (1.21.6)\n",
            "Requirement already satisfied: scipy>=1.1.0 in /usr/local/lib/python3.7/dist-packages (from scikit-learn>=1.0.0->scikeras) (1.4.1)\n",
            "Requirement already satisfied: threadpoolctl>=2.0.0 in /usr/local/lib/python3.7/dist-packages (from scikit-learn>=1.0.0->scikeras) (3.1.0)\n",
            "Requirement already satisfied: joblib>=0.11 in /usr/local/lib/python3.7/dist-packages (from scikit-learn>=1.0.0->scikeras) (1.1.0)\n",
            "Installing collected packages: scikeras\n",
            "Successfully installed scikeras-0.8.0\n"
          ]
        }
      ],
      "source": [
        "!{sys.executable} -m pip install -U tensorflow==2.7.0\n",
        "!{sys.executable} -m pip install -U scikeras"
      ],
      "id": "fcc650fe"
    },
    {
      "cell_type": "code",
      "execution_count": null,
      "metadata": {
        "id": "71f34a68"
      },
      "outputs": [],
      "source": [
        "import tensorflow as tf\n",
        "from tensorflow import keras\n",
        "\n",
        "# Ensure stability across runs\n",
        "keras.backend.clear_session()\n",
        "tf.random.set_seed(42)"
      ],
      "id": "71f34a68"
    },
    {
      "cell_type": "code",
      "execution_count": null,
      "metadata": {
        "colab": {
          "base_uri": "https://localhost:8080/"
        },
        "id": "cd25d964",
        "outputId": "7114f63f-cbb8-4a94-8561-2d4c43a0c01d"
      },
      "outputs": [
        {
          "name": "stdout",
          "output_type": "stream",
          "text": [
            "Collecting extra-keras-datasets\n",
            "  Downloading extra_keras_datasets-1.2.0-py3-none-any.whl (12 kB)\n",
            "Requirement already satisfied: numpy in /usr/local/lib/python3.7/dist-packages (from extra-keras-datasets) (1.21.6)\n",
            "Requirement already satisfied: pandas in /usr/local/lib/python3.7/dist-packages (from extra-keras-datasets) (1.3.5)\n",
            "Requirement already satisfied: scipy in /usr/local/lib/python3.7/dist-packages (from extra-keras-datasets) (1.4.1)\n",
            "Requirement already satisfied: scikit-learn in /usr/local/lib/python3.7/dist-packages (from extra-keras-datasets) (1.0.2)\n",
            "Requirement already satisfied: python-dateutil>=2.7.3 in /usr/local/lib/python3.7/dist-packages (from pandas->extra-keras-datasets) (2.8.2)\n",
            "Requirement already satisfied: pytz>=2017.3 in /usr/local/lib/python3.7/dist-packages (from pandas->extra-keras-datasets) (2022.1)\n",
            "Requirement already satisfied: six>=1.5 in /usr/local/lib/python3.7/dist-packages (from python-dateutil>=2.7.3->pandas->extra-keras-datasets) (1.15.0)\n",
            "Requirement already satisfied: joblib>=0.11 in /usr/local/lib/python3.7/dist-packages (from scikit-learn->extra-keras-datasets) (1.1.0)\n",
            "Requirement already satisfied: threadpoolctl>=2.0.0 in /usr/local/lib/python3.7/dist-packages (from scikit-learn->extra-keras-datasets) (3.1.0)\n",
            "Installing collected packages: extra-keras-datasets\n",
            "Successfully installed extra-keras-datasets-1.2.0\n"
          ]
        }
      ],
      "source": [
        "!pip install extra-keras-datasets\n",
        "import tensorflow as tf\n",
        "from tensorflow import keras\n",
        "from extra_keras_datasets import emnist\n",
        "import numpy as np\n",
        "import pandas as pd\n",
        "import matplotlib.pyplot as plt\n",
        "import sklearn\n",
        "import time\n",
        "from sklearn.model_selection import train_test_split"
      ],
      "id": "cd25d964"
    },
    {
      "cell_type": "code",
      "execution_count": null,
      "metadata": {
        "colab": {
          "base_uri": "https://localhost:8080/"
        },
        "id": "26d6d5c6",
        "outputId": "e3f855e2-45c0-4c1d-80a1-53e9b3b01397"
      },
      "outputs": [
        {
          "name": "stderr",
          "output_type": "stream",
          "text": [
            "INFO:root:Loading dataset = emnist\n"
          ]
        },
        {
          "name": "stdout",
          "output_type": "stream",
          "text": [
            "Downloading data from http://www.itl.nist.gov/iaui/vip/cs_links/EMNIST/matlab.zip\n",
            "743907328/743900280 [==============================] - 7s 0us/step\n",
            "743915520/743900280 [==============================] - 7s 0us/step\n"
          ]
        },
        {
          "name": "stderr",
          "output_type": "stream",
          "text": [
            "WARNING:root:Please cite the following paper when using or referencing this Extra Keras Dataset:\n",
            "WARNING:root:Cohen, G., Afshar, S., Tapson, J., & van Schaik, A. (2017). EMNIST: an extension of MNIST to handwritten letters. Retrieved from http://arxiv.org/abs/1702.05373\n"
          ]
        },
        {
          "name": "stdout",
          "output_type": "stream",
          "text": [
            "Train shape (697932, 28, 28) (697932,)\n",
            "Test shape (116323, 28, 28) (116323,)\n"
          ]
        }
      ],
      "source": [
        "(X_train, y_train), (X_test, y_test) = emnist.load_data(type = 'byclass')\n",
        "\n",
        "print('Train shape', X_train.shape, y_train.shape)\n",
        "print('Test shape', X_test.shape, y_test.shape)"
      ],
      "id": "26d6d5c6"
    },
    {
      "cell_type": "code",
      "execution_count": null,
      "metadata": {
        "id": "_2PV8f_AD8LZ"
      },
      "outputs": [],
      "source": [
        "X_train, X_drop, y_train, y_drop = train_test_split(X_train, y_train, train_size=0.1)\n",
        "X_test, X_drop, y_test, y_drop = train_test_split(X_test, y_test, train_size=0.1)"
      ],
      "id": "_2PV8f_AD8LZ"
    },
    {
      "cell_type": "code",
      "execution_count": null,
      "metadata": {
        "colab": {
          "base_uri": "https://localhost:8080/"
        },
        "id": "__xAMwIoEJrY",
        "outputId": "331dcfcf-439c-4d0d-8e32-cbfec9a6f2e1"
      },
      "outputs": [
        {
          "data": {
            "text/plain": [
              "(69793, 28, 28)"
            ]
          },
          "execution_count": 7,
          "metadata": {},
          "output_type": "execute_result"
        }
      ],
      "source": [
        "X_train.shape"
      ],
      "id": "__xAMwIoEJrY"
    },
    {
      "cell_type": "code",
      "execution_count": null,
      "metadata": {
        "id": "1c0052bd"
      },
      "outputs": [],
      "source": [
        "# Preprocessing-normalization\n",
        "X_train_norm = X_train / 255.\n",
        "X_test_norm = X_test / 255."
      ],
      "id": "1c0052bd"
    },
    {
      "cell_type": "code",
      "execution_count": null,
      "metadata": {
        "id": "08e6b98c"
      },
      "outputs": [],
      "source": [
        "nsamples, nx, ny = X_train_norm.shape\n",
        "X_train_svm = X_train_norm.reshape((nsamples,nx*ny))\n",
        "\n",
        "nsamples, nx, ny = X_test_norm.shape\n",
        "X_test_svm = X_test_norm.reshape((nsamples,nx*ny))\n",
        "\n",
        "# split training data into training and validation\n",
        "X_train_svm, X_v_svm, y_train_svm, y_v_svm = train_test_split(X_train_svm, y_train, train_size=0.85)"
      ],
      "id": "08e6b98c"
    },
    {
      "cell_type": "code",
      "execution_count": null,
      "metadata": {
        "colab": {
          "base_uri": "https://localhost:8080/"
        },
        "id": "60f1c99a",
        "outputId": "6e0bcbae-bd83-4126-b7e7-ef478c3b4218"
      },
      "outputs": [
        {
          "data": {
            "text/plain": [
              "(59324, 784)"
            ]
          },
          "execution_count": 10,
          "metadata": {},
          "output_type": "execute_result"
        }
      ],
      "source": [
        "X_train_svm.shape"
      ],
      "id": "60f1c99a"
    },
    {
      "cell_type": "code",
      "execution_count": null,
      "metadata": {
        "colab": {
          "base_uri": "https://localhost:8080/"
        },
        "id": "d15de2f5",
        "outputId": "96de5c26-4629-4c66-d871-cb51906b245c"
      },
      "outputs": [
        {
          "name": "stdout",
          "output_type": "stream",
          "text": [
            "Reshape of X_train: (69793, 28, 28, 1)\n",
            "Reshape of X_test: (11632, 28, 28, 1)\n"
          ]
        }
      ],
      "source": [
        "# Add an extra dimension to our data\n",
        "X_train = X_train_norm.reshape((X_train_norm.shape[0], X_train_norm.shape[1],X_train_norm.shape[2],1))\n",
        "X_test = X_test_norm.reshape((X_test_norm.shape[0], X_test_norm.shape[1],X_test_norm.shape[2],1))\n",
        "\n",
        "print(\"Reshape of X_train:\", X_train.shape)\n",
        "print(\"Reshape of X_test:\", X_test.shape)"
      ],
      "id": "d15de2f5"
    },
    {
      "cell_type": "code",
      "execution_count": null,
      "metadata": {
        "id": "b63d8a08"
      },
      "outputs": [],
      "source": [
        "# split training data into training and validation\n",
        "X_train, X_v, y_train, y_v = train_test_split(X_train, y_train, train_size=0.85)"
      ],
      "id": "b63d8a08"
    },
    {
      "cell_type": "code",
      "execution_count": null,
      "metadata": {
        "id": "b6f9eff2"
      },
      "outputs": [],
      "source": [
        "def build_cnn(\n",
        "    activation_function=\"relu\", input_shape=[28,28]\n",
        "):\n",
        "    \"\"\"Build a Keras MLP for 10 class classification with desired parameters.\"\"\"\n",
        "    \n",
        "    model = keras.Sequential([\n",
        "    keras.Input(shape=(28, 28, 1)),\n",
        "\n",
        "    keras.layers.Conv2D(32, kernel_size=(3, 3), activation=\"relu\"),\n",
        "    keras.layers.MaxPooling2D(pool_size=(2, 2)),\n",
        "    \n",
        "    keras.layers.Conv2D(64, kernel_size=(3, 3), activation=\"relu\"),\n",
        "    keras.layers.MaxPooling2D(pool_size=(2, 2)),\n",
        "\n",
        "    # keras.layers.Conv2D(128, kernel_size=(3, 3), activation=\"relu\"),\n",
        "    # keras.layers.MaxPooling2D(pool_size=(2, 2)),\n",
        "    \n",
        "    keras.layers.Flatten(),\n",
        "    keras.layers.Dropout(0.5),\n",
        "    keras.layers.Dense(70, activation=\"softmax\"),\n",
        "])\n",
        "    \n",
        "    return model\n"
      ],
      "id": "b6f9eff2"
    },
    {
      "cell_type": "code",
      "execution_count": null,
      "metadata": {
        "id": "34247b48"
      },
      "outputs": [],
      "source": [
        "from scikeras.wrappers import KerasClassifier\n",
        "keras_classifier = KerasClassifier(build_cnn,\n",
        "                                   activation_function=\"relu\",\n",
        "                                   loss=\"sparse_categorical_crossentropy\",\n",
        "                                   optimizer=\"adam\",\n",
        "                                   optimizer__lr=0.01,\n",
        "                                   metrics=[\"accuracy\"]\n",
        "                                  )"
      ],
      "id": "34247b48"
    },
    {
      "cell_type": "code",
      "execution_count": null,
      "metadata": {
        "colab": {
          "base_uri": "https://localhost:8080/"
        },
        "id": "0901503a",
        "outputId": "9eeccf21-5ca7-42c8-d2e4-f2e79234a3d4"
      },
      "outputs": [
        {
          "name": "stderr",
          "output_type": "stream",
          "text": [
            "/usr/local/lib/python3.7/dist-packages/keras/optimizer_v2/adam.py:105: UserWarning: The `lr` argument is deprecated, use `learning_rate` instead.\n",
            "  super(Adam, self).__init__(name, **kwargs)\n"
          ]
        },
        {
          "name": "stdout",
          "output_type": "stream",
          "text": [
            "Epoch 1/5\n",
            "618/618 [==============================] - 6s 9ms/step - loss: 1.0603 - accuracy: 0.6977\n",
            "Epoch 2/5\n",
            "618/618 [==============================] - 6s 9ms/step - loss: 0.7508 - accuracy: 0.7645\n",
            "Epoch 3/5\n",
            "618/618 [==============================] - 6s 9ms/step - loss: 0.6892 - accuracy: 0.7792\n",
            "Epoch 4/5\n",
            "618/618 [==============================] - 6s 9ms/step - loss: 0.6547 - accuracy: 0.7876\n",
            "Epoch 5/5\n",
            "618/618 [==============================] - 6s 9ms/step - loss: 0.6303 - accuracy: 0.7942\n",
            "309/309 [==============================] - 1s 3ms/step\n"
          ]
        },
        {
          "name": "stderr",
          "output_type": "stream",
          "text": [
            "/usr/local/lib/python3.7/dist-packages/keras/optimizer_v2/adam.py:105: UserWarning: The `lr` argument is deprecated, use `learning_rate` instead.\n",
            "  super(Adam, self).__init__(name, **kwargs)\n"
          ]
        },
        {
          "name": "stdout",
          "output_type": "stream",
          "text": [
            "Epoch 1/5\n",
            "618/618 [==============================] - 6s 10ms/step - loss: 1.0773 - accuracy: 0.6932\n",
            "Epoch 2/5\n",
            "618/618 [==============================] - 6s 10ms/step - loss: 0.7502 - accuracy: 0.7635\n",
            "Epoch 3/5\n",
            "618/618 [==============================] - 6s 10ms/step - loss: 0.6964 - accuracy: 0.7792\n",
            "Epoch 4/5\n",
            "618/618 [==============================] - 6s 10ms/step - loss: 0.6561 - accuracy: 0.7876\n",
            "Epoch 5/5\n",
            "618/618 [==============================] - 6s 10ms/step - loss: 0.6365 - accuracy: 0.7904\n",
            "309/309 [==============================] - 1s 3ms/step\n"
          ]
        },
        {
          "name": "stderr",
          "output_type": "stream",
          "text": [
            "/usr/local/lib/python3.7/dist-packages/keras/optimizer_v2/adam.py:105: UserWarning: The `lr` argument is deprecated, use `learning_rate` instead.\n",
            "  super(Adam, self).__init__(name, **kwargs)\n"
          ]
        },
        {
          "name": "stdout",
          "output_type": "stream",
          "text": [
            "Epoch 1/5\n",
            "618/618 [==============================] - 6s 10ms/step - loss: 1.0849 - accuracy: 0.6913\n",
            "Epoch 2/5\n",
            "618/618 [==============================] - 6s 10ms/step - loss: 0.7577 - accuracy: 0.7631\n",
            "Epoch 3/5\n",
            "618/618 [==============================] - 6s 10ms/step - loss: 0.6981 - accuracy: 0.7766\n",
            "Epoch 4/5\n",
            "618/618 [==============================] - 6s 10ms/step - loss: 0.6600 - accuracy: 0.7823\n",
            "Epoch 5/5\n",
            "618/618 [==============================] - 6s 10ms/step - loss: 0.6385 - accuracy: 0.7899\n",
            "309/309 [==============================] - 1s 3ms/step\n"
          ]
        },
        {
          "name": "stderr",
          "output_type": "stream",
          "text": [
            "/usr/local/lib/python3.7/dist-packages/keras/optimizer_v2/adam.py:105: UserWarning: The `lr` argument is deprecated, use `learning_rate` instead.\n",
            "  super(Adam, self).__init__(name, **kwargs)\n"
          ]
        },
        {
          "name": "stdout",
          "output_type": "stream",
          "text": [
            "Epoch 1/10\n",
            "618/618 [==============================] - 7s 10ms/step - loss: 1.0458 - accuracy: 0.6995\n",
            "Epoch 2/10\n",
            "618/618 [==============================] - 6s 10ms/step - loss: 0.7224 - accuracy: 0.7726\n",
            "Epoch 3/10\n",
            "618/618 [==============================] - 6s 10ms/step - loss: 0.6676 - accuracy: 0.7822\n",
            "Epoch 4/10\n",
            "618/618 [==============================] - 6s 10ms/step - loss: 0.6359 - accuracy: 0.7896\n",
            "Epoch 5/10\n",
            "618/618 [==============================] - 6s 10ms/step - loss: 0.6173 - accuracy: 0.7937\n",
            "Epoch 6/10\n",
            "618/618 [==============================] - 6s 10ms/step - loss: 0.5991 - accuracy: 0.7989\n",
            "Epoch 7/10\n",
            "618/618 [==============================] - 6s 10ms/step - loss: 0.5848 - accuracy: 0.8016\n",
            "Epoch 8/10\n",
            "618/618 [==============================] - 6s 10ms/step - loss: 0.5802 - accuracy: 0.8024\n",
            "Epoch 9/10\n",
            "618/618 [==============================] - 6s 10ms/step - loss: 0.5707 - accuracy: 0.8066\n",
            "Epoch 10/10\n",
            "618/618 [==============================] - 6s 10ms/step - loss: 0.5566 - accuracy: 0.8109\n",
            "309/309 [==============================] - 1s 3ms/step\n"
          ]
        },
        {
          "name": "stderr",
          "output_type": "stream",
          "text": [
            "/usr/local/lib/python3.7/dist-packages/keras/optimizer_v2/adam.py:105: UserWarning: The `lr` argument is deprecated, use `learning_rate` instead.\n",
            "  super(Adam, self).__init__(name, **kwargs)\n"
          ]
        },
        {
          "name": "stdout",
          "output_type": "stream",
          "text": [
            "Epoch 1/10\n",
            "618/618 [==============================] - 7s 10ms/step - loss: 1.0780 - accuracy: 0.6937\n",
            "Epoch 2/10\n",
            "618/618 [==============================] - 6s 10ms/step - loss: 0.7400 - accuracy: 0.7684\n",
            "Epoch 3/10\n",
            "618/618 [==============================] - 6s 10ms/step - loss: 0.6840 - accuracy: 0.7788\n",
            "Epoch 4/10\n",
            "618/618 [==============================] - 6s 10ms/step - loss: 0.6506 - accuracy: 0.7871\n",
            "Epoch 5/10\n",
            "618/618 [==============================] - 7s 11ms/step - loss: 0.6281 - accuracy: 0.7922\n",
            "Epoch 6/10\n",
            "618/618 [==============================] - 7s 11ms/step - loss: 0.6078 - accuracy: 0.7959\n",
            "Epoch 7/10\n",
            "618/618 [==============================] - 7s 11ms/step - loss: 0.5915 - accuracy: 0.8019\n",
            "Epoch 8/10\n",
            "618/618 [==============================] - 7s 11ms/step - loss: 0.5860 - accuracy: 0.8006\n",
            "Epoch 9/10\n",
            "618/618 [==============================] - 7s 11ms/step - loss: 0.5718 - accuracy: 0.8061\n",
            "Epoch 10/10\n",
            "618/618 [==============================] - 7s 11ms/step - loss: 0.5713 - accuracy: 0.8052\n",
            "309/309 [==============================] - 1s 3ms/step\n"
          ]
        },
        {
          "name": "stderr",
          "output_type": "stream",
          "text": [
            "/usr/local/lib/python3.7/dist-packages/keras/optimizer_v2/adam.py:105: UserWarning: The `lr` argument is deprecated, use `learning_rate` instead.\n",
            "  super(Adam, self).__init__(name, **kwargs)\n"
          ]
        },
        {
          "name": "stdout",
          "output_type": "stream",
          "text": [
            "Epoch 1/10\n",
            "618/618 [==============================] - 7s 11ms/step - loss: 1.0763 - accuracy: 0.6912\n",
            "Epoch 2/10\n",
            "618/618 [==============================] - 7s 11ms/step - loss: 0.7413 - accuracy: 0.7668\n",
            "Epoch 3/10\n",
            "618/618 [==============================] - 7s 11ms/step - loss: 0.6816 - accuracy: 0.7799\n",
            "Epoch 4/10\n",
            "618/618 [==============================] - 7s 11ms/step - loss: 0.6505 - accuracy: 0.7885\n",
            "Epoch 5/10\n",
            "618/618 [==============================] - 7s 11ms/step - loss: 0.6238 - accuracy: 0.7949\n",
            "Epoch 6/10\n",
            "618/618 [==============================] - 7s 11ms/step - loss: 0.6181 - accuracy: 0.7952\n",
            "Epoch 7/10\n",
            "618/618 [==============================] - 7s 11ms/step - loss: 0.6020 - accuracy: 0.7996\n",
            "Epoch 8/10\n",
            "618/618 [==============================] - 7s 11ms/step - loss: 0.5893 - accuracy: 0.8033\n",
            "Epoch 9/10\n",
            "618/618 [==============================] - 7s 11ms/step - loss: 0.5752 - accuracy: 0.8055\n",
            "Epoch 10/10\n",
            "618/618 [==============================] - 7s 11ms/step - loss: 0.5799 - accuracy: 0.8045\n",
            "309/309 [==============================] - 1s 4ms/step\n"
          ]
        },
        {
          "name": "stderr",
          "output_type": "stream",
          "text": [
            "/usr/local/lib/python3.7/dist-packages/keras/optimizer_v2/adam.py:105: UserWarning: The `lr` argument is deprecated, use `learning_rate` instead.\n",
            "  super(Adam, self).__init__(name, **kwargs)\n"
          ]
        },
        {
          "name": "stdout",
          "output_type": "stream",
          "text": [
            "Epoch 1/5\n",
            "309/309 [==============================] - 5s 16ms/step - loss: 1.0906 - accuracy: 0.6913\n",
            "Epoch 2/5\n",
            "309/309 [==============================] - 5s 16ms/step - loss: 0.7054 - accuracy: 0.7741\n",
            "Epoch 3/5\n",
            "309/309 [==============================] - 5s 16ms/step - loss: 0.6337 - accuracy: 0.7937\n",
            "Epoch 4/5\n",
            "309/309 [==============================] - 5s 16ms/step - loss: 0.5968 - accuracy: 0.8028\n",
            "Epoch 5/5\n",
            "309/309 [==============================] - 5s 16ms/step - loss: 0.5681 - accuracy: 0.8104\n",
            "155/155 [==============================] - 1s 5ms/step\n"
          ]
        },
        {
          "name": "stderr",
          "output_type": "stream",
          "text": [
            "/usr/local/lib/python3.7/dist-packages/keras/optimizer_v2/adam.py:105: UserWarning: The `lr` argument is deprecated, use `learning_rate` instead.\n",
            "  super(Adam, self).__init__(name, **kwargs)\n"
          ]
        },
        {
          "name": "stdout",
          "output_type": "stream",
          "text": [
            "Epoch 1/5\n",
            "309/309 [==============================] - 6s 17ms/step - loss: 1.0940 - accuracy: 0.6921\n",
            "Epoch 2/5\n",
            "309/309 [==============================] - 5s 16ms/step - loss: 0.7263 - accuracy: 0.7710\n",
            "Epoch 3/5\n",
            "309/309 [==============================] - 5s 16ms/step - loss: 0.6529 - accuracy: 0.7902\n",
            "Epoch 4/5\n",
            "309/309 [==============================] - 5s 16ms/step - loss: 0.6141 - accuracy: 0.7992\n",
            "Epoch 5/5\n",
            "309/309 [==============================] - 5s 16ms/step - loss: 0.5883 - accuracy: 0.8039\n",
            "155/155 [==============================] - 1s 5ms/step\n"
          ]
        },
        {
          "name": "stderr",
          "output_type": "stream",
          "text": [
            "/usr/local/lib/python3.7/dist-packages/keras/optimizer_v2/adam.py:105: UserWarning: The `lr` argument is deprecated, use `learning_rate` instead.\n",
            "  super(Adam, self).__init__(name, **kwargs)\n"
          ]
        },
        {
          "name": "stdout",
          "output_type": "stream",
          "text": [
            "Epoch 1/5\n",
            "309/309 [==============================] - 5s 16ms/step - loss: 1.0829 - accuracy: 0.6936\n",
            "Epoch 2/5\n",
            "309/309 [==============================] - 5s 16ms/step - loss: 0.6979 - accuracy: 0.7785\n",
            "Epoch 3/5\n",
            "309/309 [==============================] - 5s 16ms/step - loss: 0.6391 - accuracy: 0.7929\n",
            "Epoch 4/5\n",
            "309/309 [==============================] - 5s 16ms/step - loss: 0.5954 - accuracy: 0.8038\n",
            "Epoch 5/5\n",
            "309/309 [==============================] - 5s 16ms/step - loss: 0.5792 - accuracy: 0.8043\n",
            "155/155 [==============================] - 1s 5ms/step\n"
          ]
        },
        {
          "name": "stderr",
          "output_type": "stream",
          "text": [
            "/usr/local/lib/python3.7/dist-packages/keras/optimizer_v2/adam.py:105: UserWarning: The `lr` argument is deprecated, use `learning_rate` instead.\n",
            "  super(Adam, self).__init__(name, **kwargs)\n"
          ]
        },
        {
          "name": "stdout",
          "output_type": "stream",
          "text": [
            "Epoch 1/10\n",
            "309/309 [==============================] - 5s 16ms/step - loss: 1.0903 - accuracy: 0.6929\n",
            "Epoch 2/10\n",
            "309/309 [==============================] - 5s 16ms/step - loss: 0.7242 - accuracy: 0.7740\n",
            "Epoch 3/10\n",
            "309/309 [==============================] - 5s 16ms/step - loss: 0.6533 - accuracy: 0.7878\n",
            "Epoch 4/10\n",
            "309/309 [==============================] - 5s 17ms/step - loss: 0.6167 - accuracy: 0.7959\n",
            "Epoch 5/10\n",
            "309/309 [==============================] - 5s 17ms/step - loss: 0.5822 - accuracy: 0.8052\n",
            "Epoch 6/10\n",
            "309/309 [==============================] - 5s 17ms/step - loss: 0.5670 - accuracy: 0.8097\n",
            "Epoch 7/10\n",
            "309/309 [==============================] - 5s 16ms/step - loss: 0.5513 - accuracy: 0.8129\n",
            "Epoch 8/10\n",
            "309/309 [==============================] - 5s 16ms/step - loss: 0.5371 - accuracy: 0.8178\n",
            "Epoch 9/10\n",
            "309/309 [==============================] - 5s 16ms/step - loss: 0.5269 - accuracy: 0.8192\n",
            "Epoch 10/10\n",
            "309/309 [==============================] - 5s 16ms/step - loss: 0.5142 - accuracy: 0.8226\n",
            "155/155 [==============================] - 1s 5ms/step\n"
          ]
        },
        {
          "name": "stderr",
          "output_type": "stream",
          "text": [
            "/usr/local/lib/python3.7/dist-packages/keras/optimizer_v2/adam.py:105: UserWarning: The `lr` argument is deprecated, use `learning_rate` instead.\n",
            "  super(Adam, self).__init__(name, **kwargs)\n"
          ]
        },
        {
          "name": "stdout",
          "output_type": "stream",
          "text": [
            "Epoch 1/10\n",
            "309/309 [==============================] - 5s 16ms/step - loss: 1.0723 - accuracy: 0.6978\n",
            "Epoch 2/10\n",
            "309/309 [==============================] - 5s 16ms/step - loss: 0.6980 - accuracy: 0.7782\n",
            "Epoch 3/10\n",
            "309/309 [==============================] - 5s 16ms/step - loss: 0.6307 - accuracy: 0.7964\n",
            "Epoch 4/10\n",
            "309/309 [==============================] - 5s 17ms/step - loss: 0.5947 - accuracy: 0.8020\n",
            "Epoch 5/10\n",
            "309/309 [==============================] - 5s 16ms/step - loss: 0.5575 - accuracy: 0.8130\n",
            "Epoch 6/10\n",
            "309/309 [==============================] - 5s 17ms/step - loss: 0.5493 - accuracy: 0.8148\n",
            "Epoch 7/10\n",
            "309/309 [==============================] - 5s 17ms/step - loss: 0.5318 - accuracy: 0.8164\n",
            "Epoch 8/10\n",
            "309/309 [==============================] - 5s 16ms/step - loss: 0.5178 - accuracy: 0.8215\n",
            "Epoch 9/10\n",
            "309/309 [==============================] - 5s 17ms/step - loss: 0.5075 - accuracy: 0.8237\n",
            "Epoch 10/10\n",
            "309/309 [==============================] - 5s 17ms/step - loss: 0.4936 - accuracy: 0.8275\n",
            "155/155 [==============================] - 1s 5ms/step\n"
          ]
        },
        {
          "name": "stderr",
          "output_type": "stream",
          "text": [
            "/usr/local/lib/python3.7/dist-packages/keras/optimizer_v2/adam.py:105: UserWarning: The `lr` argument is deprecated, use `learning_rate` instead.\n",
            "  super(Adam, self).__init__(name, **kwargs)\n"
          ]
        },
        {
          "name": "stdout",
          "output_type": "stream",
          "text": [
            "Epoch 1/10\n",
            "309/309 [==============================] - 5s 15ms/step - loss: 1.0635 - accuracy: 0.6986\n",
            "Epoch 2/10\n",
            "309/309 [==============================] - 5s 15ms/step - loss: 0.7025 - accuracy: 0.7779\n",
            "Epoch 3/10\n",
            "309/309 [==============================] - 5s 16ms/step - loss: 0.6354 - accuracy: 0.7922\n",
            "Epoch 4/10\n",
            "309/309 [==============================] - 5s 16ms/step - loss: 0.5953 - accuracy: 0.8030\n",
            "Epoch 5/10\n",
            "309/309 [==============================] - 5s 16ms/step - loss: 0.5796 - accuracy: 0.8075\n",
            "Epoch 6/10\n",
            "309/309 [==============================] - 5s 17ms/step - loss: 0.5574 - accuracy: 0.8113\n",
            "Epoch 7/10\n",
            "309/309 [==============================] - 5s 17ms/step - loss: 0.5401 - accuracy: 0.8121\n",
            "Epoch 8/10\n",
            "309/309 [==============================] - 5s 16ms/step - loss: 0.5275 - accuracy: 0.8177\n",
            "Epoch 9/10\n",
            "309/309 [==============================] - 5s 17ms/step - loss: 0.5193 - accuracy: 0.8223\n",
            "Epoch 10/10\n",
            "309/309 [==============================] - 5s 16ms/step - loss: 0.5085 - accuracy: 0.8225\n",
            "155/155 [==============================] - 1s 6ms/step\n"
          ]
        },
        {
          "name": "stderr",
          "output_type": "stream",
          "text": [
            "/usr/local/lib/python3.7/dist-packages/keras/optimizer_v2/adam.py:105: UserWarning: The `lr` argument is deprecated, use `learning_rate` instead.\n",
            "  super(Adam, self).__init__(name, **kwargs)\n"
          ]
        },
        {
          "name": "stdout",
          "output_type": "stream",
          "text": [
            "Epoch 1/5\n",
            "155/155 [==============================] - 4s 24ms/step - loss: 1.2337 - accuracy: 0.6576\n",
            "Epoch 2/5\n",
            "155/155 [==============================] - 4s 24ms/step - loss: 0.7218 - accuracy: 0.7734\n",
            "Epoch 3/5\n",
            "155/155 [==============================] - 4s 23ms/step - loss: 0.6416 - accuracy: 0.7909\n",
            "Epoch 4/5\n",
            "155/155 [==============================] - 4s 23ms/step - loss: 0.5951 - accuracy: 0.8037\n",
            "Epoch 5/5\n",
            "155/155 [==============================] - 4s 24ms/step - loss: 0.5628 - accuracy: 0.8110\n",
            "78/78 [==============================] - 1s 8ms/step\n"
          ]
        },
        {
          "name": "stderr",
          "output_type": "stream",
          "text": [
            "/usr/local/lib/python3.7/dist-packages/keras/optimizer_v2/adam.py:105: UserWarning: The `lr` argument is deprecated, use `learning_rate` instead.\n",
            "  super(Adam, self).__init__(name, **kwargs)\n"
          ]
        },
        {
          "name": "stdout",
          "output_type": "stream",
          "text": [
            "Epoch 1/5\n",
            "155/155 [==============================] - 4s 24ms/step - loss: 1.0958 - accuracy: 0.6925\n",
            "Epoch 2/5\n",
            "155/155 [==============================] - 4s 24ms/step - loss: 0.6668 - accuracy: 0.7865\n",
            "Epoch 3/5\n",
            "155/155 [==============================] - 4s 24ms/step - loss: 0.6037 - accuracy: 0.8025\n",
            "Epoch 4/5\n",
            "155/155 [==============================] - 4s 24ms/step - loss: 0.5631 - accuracy: 0.8112\n",
            "Epoch 5/5\n",
            "155/155 [==============================] - 4s 25ms/step - loss: 0.5383 - accuracy: 0.8173\n",
            "78/78 [==============================] - 1s 8ms/step\n"
          ]
        },
        {
          "name": "stderr",
          "output_type": "stream",
          "text": [
            "/usr/local/lib/python3.7/dist-packages/keras/optimizer_v2/adam.py:105: UserWarning: The `lr` argument is deprecated, use `learning_rate` instead.\n",
            "  super(Adam, self).__init__(name, **kwargs)\n"
          ]
        },
        {
          "name": "stdout",
          "output_type": "stream",
          "text": [
            "Epoch 1/5\n",
            "155/155 [==============================] - 4s 25ms/step - loss: 1.2094 - accuracy: 0.6647\n",
            "Epoch 2/5\n",
            "155/155 [==============================] - 4s 24ms/step - loss: 0.7028 - accuracy: 0.7776\n",
            "Epoch 3/5\n",
            "155/155 [==============================] - 4s 24ms/step - loss: 0.6199 - accuracy: 0.7969\n",
            "Epoch 4/5\n",
            "155/155 [==============================] - 4s 24ms/step - loss: 0.5786 - accuracy: 0.8078\n",
            "Epoch 5/5\n",
            "155/155 [==============================] - 4s 24ms/step - loss: 0.5511 - accuracy: 0.8158\n",
            "78/78 [==============================] - 1s 7ms/step\n"
          ]
        },
        {
          "name": "stderr",
          "output_type": "stream",
          "text": [
            "/usr/local/lib/python3.7/dist-packages/keras/optimizer_v2/adam.py:105: UserWarning: The `lr` argument is deprecated, use `learning_rate` instead.\n",
            "  super(Adam, self).__init__(name, **kwargs)\n"
          ]
        },
        {
          "name": "stdout",
          "output_type": "stream",
          "text": [
            "Epoch 1/10\n",
            "155/155 [==============================] - 4s 23ms/step - loss: 1.1987 - accuracy: 0.6671\n",
            "Epoch 2/10\n",
            "155/155 [==============================] - 4s 23ms/step - loss: 0.7092 - accuracy: 0.7749\n",
            "Epoch 3/10\n",
            "155/155 [==============================] - 4s 23ms/step - loss: 0.6344 - accuracy: 0.7934\n",
            "Epoch 4/10\n",
            "155/155 [==============================] - 4s 23ms/step - loss: 0.5891 - accuracy: 0.8054\n",
            "Epoch 5/10\n",
            "155/155 [==============================] - 3s 22ms/step - loss: 0.5636 - accuracy: 0.8097\n",
            "Epoch 6/10\n",
            "155/155 [==============================] - 3s 22ms/step - loss: 0.5395 - accuracy: 0.8155\n",
            "Epoch 7/10\n",
            "155/155 [==============================] - 4s 23ms/step - loss: 0.5192 - accuracy: 0.8218\n",
            "Epoch 8/10\n",
            "155/155 [==============================] - 3s 23ms/step - loss: 0.4990 - accuracy: 0.8258\n",
            "Epoch 9/10\n",
            "155/155 [==============================] - 4s 23ms/step - loss: 0.4919 - accuracy: 0.8302\n",
            "Epoch 10/10\n",
            "155/155 [==============================] - 4s 23ms/step - loss: 0.4760 - accuracy: 0.8320\n",
            "78/78 [==============================] - 1s 7ms/step\n",
            "Epoch 1/10\n"
          ]
        },
        {
          "name": "stderr",
          "output_type": "stream",
          "text": [
            "/usr/local/lib/python3.7/dist-packages/keras/optimizer_v2/adam.py:105: UserWarning: The `lr` argument is deprecated, use `learning_rate` instead.\n",
            "  super(Adam, self).__init__(name, **kwargs)\n"
          ]
        },
        {
          "name": "stdout",
          "output_type": "stream",
          "text": [
            "155/155 [==============================] - 4s 23ms/step - loss: 1.1870 - accuracy: 0.6719\n",
            "Epoch 2/10\n",
            "155/155 [==============================] - 4s 23ms/step - loss: 0.7057 - accuracy: 0.7763\n",
            "Epoch 3/10\n",
            "155/155 [==============================] - 4s 23ms/step - loss: 0.6289 - accuracy: 0.7969\n",
            "Epoch 4/10\n",
            "155/155 [==============================] - 3s 22ms/step - loss: 0.5858 - accuracy: 0.8060\n",
            "Epoch 5/10\n",
            "155/155 [==============================] - 4s 23ms/step - loss: 0.5605 - accuracy: 0.8115\n",
            "Epoch 6/10\n",
            "155/155 [==============================] - 4s 23ms/step - loss: 0.5385 - accuracy: 0.8185\n",
            "Epoch 7/10\n",
            "155/155 [==============================] - 4s 23ms/step - loss: 0.5198 - accuracy: 0.8217\n",
            "Epoch 8/10\n",
            "155/155 [==============================] - 4s 23ms/step - loss: 0.4977 - accuracy: 0.8298\n",
            "Epoch 9/10\n",
            "155/155 [==============================] - 4s 23ms/step - loss: 0.4840 - accuracy: 0.8297\n",
            "Epoch 10/10\n",
            "155/155 [==============================] - 3s 22ms/step - loss: 0.4747 - accuracy: 0.8353\n",
            "78/78 [==============================] - 1s 7ms/step\n"
          ]
        },
        {
          "name": "stderr",
          "output_type": "stream",
          "text": [
            "/usr/local/lib/python3.7/dist-packages/keras/optimizer_v2/adam.py:105: UserWarning: The `lr` argument is deprecated, use `learning_rate` instead.\n",
            "  super(Adam, self).__init__(name, **kwargs)\n"
          ]
        },
        {
          "name": "stdout",
          "output_type": "stream",
          "text": [
            "Epoch 1/10\n",
            "155/155 [==============================] - 4s 22ms/step - loss: 1.1532 - accuracy: 0.6777\n",
            "Epoch 2/10\n",
            "155/155 [==============================] - 3s 22ms/step - loss: 0.7098 - accuracy: 0.7746\n",
            "Epoch 3/10\n",
            "155/155 [==============================] - 4s 23ms/step - loss: 0.6403 - accuracy: 0.7924\n",
            "Epoch 4/10\n",
            "155/155 [==============================] - 3s 22ms/step - loss: 0.5962 - accuracy: 0.8043\n",
            "Epoch 5/10\n",
            "155/155 [==============================] - 3s 22ms/step - loss: 0.5667 - accuracy: 0.8098\n",
            "Epoch 6/10\n",
            "155/155 [==============================] - 4s 23ms/step - loss: 0.5424 - accuracy: 0.8170\n",
            "Epoch 7/10\n",
            "155/155 [==============================] - 4s 23ms/step - loss: 0.5329 - accuracy: 0.8186\n",
            "Epoch 8/10\n",
            "155/155 [==============================] - 4s 23ms/step - loss: 0.5141 - accuracy: 0.8229\n",
            "Epoch 9/10\n",
            "155/155 [==============================] - 3s 23ms/step - loss: 0.5012 - accuracy: 0.8252\n",
            "Epoch 10/10\n",
            "155/155 [==============================] - 3s 22ms/step - loss: 0.4941 - accuracy: 0.8278\n",
            "78/78 [==============================] - 1s 8ms/step\n"
          ]
        },
        {
          "name": "stderr",
          "output_type": "stream",
          "text": [
            "/usr/local/lib/python3.7/dist-packages/keras/optimizer_v2/adam.py:105: UserWarning: The `lr` argument is deprecated, use `learning_rate` instead.\n",
            "  super(Adam, self).__init__(name, **kwargs)\n"
          ]
        },
        {
          "name": "stdout",
          "output_type": "stream",
          "text": [
            "Epoch 1/10\n",
            "464/464 [==============================] - 7s 15ms/step - loss: 0.9773 - accuracy: 0.7172\n",
            "Epoch 2/10\n",
            "464/464 [==============================] - 7s 15ms/step - loss: 0.6817 - accuracy: 0.7825\n",
            "Epoch 3/10\n",
            "464/464 [==============================] - 7s 15ms/step - loss: 0.6184 - accuracy: 0.7966\n",
            "Epoch 4/10\n",
            "464/464 [==============================] - 7s 15ms/step - loss: 0.5899 - accuracy: 0.8064\n",
            "Epoch 5/10\n",
            "464/464 [==============================] - 7s 15ms/step - loss: 0.5645 - accuracy: 0.8120\n",
            "Epoch 6/10\n",
            "464/464 [==============================] - 7s 15ms/step - loss: 0.5532 - accuracy: 0.8126\n",
            "Epoch 7/10\n",
            "464/464 [==============================] - 7s 15ms/step - loss: 0.5442 - accuracy: 0.8153\n",
            "Epoch 8/10\n",
            "464/464 [==============================] - 7s 15ms/step - loss: 0.5313 - accuracy: 0.8188\n",
            "Epoch 9/10\n",
            "464/464 [==============================] - 7s 14ms/step - loss: 0.5327 - accuracy: 0.8158\n",
            "Epoch 10/10\n",
            "464/464 [==============================] - 7s 14ms/step - loss: 0.5170 - accuracy: 0.8214\n"
          ]
        }
      ],
      "source": [
        "from sklearn.model_selection import GridSearchCV\n",
        "# define the grid search parameters\n",
        "batch_size = [64,128,256]\n",
        "epochs = [5, 10]\n",
        "param_grid = dict(batch_size=batch_size, epochs=epochs)\n",
        "grid = GridSearchCV(estimator=keras_classifier, param_grid=param_grid,cv=3)\n",
        "grid_result = grid.fit(X_train, y_train)"
      ],
      "id": "0901503a"
    },
    {
      "cell_type": "code",
      "execution_count": null,
      "metadata": {
        "colab": {
          "base_uri": "https://localhost:8080/"
        },
        "id": "a42b4329",
        "outputId": "74f11c76-5d96-450d-a492-9af500e580f4"
      },
      "outputs": [
        {
          "name": "stdout",
          "output_type": "stream",
          "text": [
            "Best: 0.831990 using {'batch_size': 128, 'epochs': 10}\n"
          ]
        }
      ],
      "source": [
        "# summarize results\n",
        "print(\"Best: %f using %s\" % (grid_result.best_score_, grid_result.best_params_))"
      ],
      "id": "a42b4329"
    },
    {
      "cell_type": "code",
      "execution_count": null,
      "metadata": {
        "colab": {
          "base_uri": "https://localhost:8080/"
        },
        "id": "-FR9nq9TF349",
        "outputId": "0f227bde-f3b5-4dcd-f042-393ff462c378"
      },
      "outputs": [
        {
          "name": "stderr",
          "output_type": "stream",
          "text": [
            "/usr/local/lib/python3.7/dist-packages/keras/optimizer_v2/adam.py:105: UserWarning: The `lr` argument is deprecated, use `learning_rate` instead.\n",
            "  super(Adam, self).__init__(name, **kwargs)\n"
          ]
        },
        {
          "name": "stdout",
          "output_type": "stream",
          "text": [
            "1236/1236 [==============================] - 11s 9ms/step - loss: 1.1544 - accuracy: 0.6780\n",
            "618/618 [==============================] - 2s 2ms/step\n"
          ]
        },
        {
          "name": "stderr",
          "output_type": "stream",
          "text": [
            "/usr/local/lib/python3.7/dist-packages/keras/optimizer_v2/adam.py:105: UserWarning: The `lr` argument is deprecated, use `learning_rate` instead.\n",
            "  super(Adam, self).__init__(name, **kwargs)\n"
          ]
        },
        {
          "name": "stdout",
          "output_type": "stream",
          "text": [
            "1236/1236 [==============================] - 11s 9ms/step - loss: 1.1806 - accuracy: 0.6712\n",
            "618/618 [==============================] - 2s 2ms/step\n"
          ]
        },
        {
          "name": "stderr",
          "output_type": "stream",
          "text": [
            "/usr/local/lib/python3.7/dist-packages/keras/optimizer_v2/adam.py:105: UserWarning: The `lr` argument is deprecated, use `learning_rate` instead.\n",
            "  super(Adam, self).__init__(name, **kwargs)\n"
          ]
        },
        {
          "name": "stdout",
          "output_type": "stream",
          "text": [
            "1236/1236 [==============================] - 12s 9ms/step - loss: 1.1586 - accuracy: 0.6732\n",
            "618/618 [==============================] - 2s 3ms/step\n"
          ]
        },
        {
          "name": "stderr",
          "output_type": "stream",
          "text": [
            "/usr/local/lib/python3.7/dist-packages/keras/optimizer_v2/adam.py:105: UserWarning: The `lr` argument is deprecated, use `learning_rate` instead.\n",
            "  super(Adam, self).__init__(name, **kwargs)\n"
          ]
        },
        {
          "name": "stdout",
          "output_type": "stream",
          "text": [
            "1236/1236 [==============================] - 12s 9ms/step - loss: 1.0964 - accuracy: 0.6898\n",
            "618/618 [==============================] - 2s 3ms/step\n"
          ]
        },
        {
          "name": "stderr",
          "output_type": "stream",
          "text": [
            "/usr/local/lib/python3.7/dist-packages/keras/optimizer_v2/adam.py:105: UserWarning: The `lr` argument is deprecated, use `learning_rate` instead.\n",
            "  super(Adam, self).__init__(name, **kwargs)\n"
          ]
        },
        {
          "name": "stdout",
          "output_type": "stream",
          "text": [
            "1236/1236 [==============================] - 12s 9ms/step - loss: 1.1838 - accuracy: 0.6645\n",
            "618/618 [==============================] - 2s 3ms/step\n"
          ]
        },
        {
          "name": "stderr",
          "output_type": "stream",
          "text": [
            "/usr/local/lib/python3.7/dist-packages/keras/optimizer_v2/adam.py:105: UserWarning: The `lr` argument is deprecated, use `learning_rate` instead.\n",
            "  super(Adam, self).__init__(name, **kwargs)\n"
          ]
        },
        {
          "name": "stdout",
          "output_type": "stream",
          "text": [
            "1236/1236 [==============================] - 11s 9ms/step - loss: 1.1203 - accuracy: 0.6806\n",
            "618/618 [==============================] - 2s 3ms/step\n"
          ]
        },
        {
          "name": "stderr",
          "output_type": "stream",
          "text": [
            "/usr/local/lib/python3.7/dist-packages/keras/optimizer_v2/adam.py:105: UserWarning: The `lr` argument is deprecated, use `learning_rate` instead.\n",
            "  super(Adam, self).__init__(name, **kwargs)\n"
          ]
        },
        {
          "name": "stdout",
          "output_type": "stream",
          "text": [
            "1236/1236 [==============================] - 11s 9ms/step - loss: 3.8486 - accuracy: 0.0503\n",
            "618/618 [==============================] - 2s 3ms/step\n"
          ]
        },
        {
          "name": "stderr",
          "output_type": "stream",
          "text": [
            "/usr/local/lib/python3.7/dist-packages/keras/optimizer_v2/adam.py:105: UserWarning: The `lr` argument is deprecated, use `learning_rate` instead.\n",
            "  super(Adam, self).__init__(name, **kwargs)\n"
          ]
        },
        {
          "name": "stdout",
          "output_type": "stream",
          "text": [
            "1236/1236 [==============================] - 12s 9ms/step - loss: 3.8526 - accuracy: 0.0489\n",
            "618/618 [==============================] - 2s 3ms/step\n"
          ]
        },
        {
          "name": "stderr",
          "output_type": "stream",
          "text": [
            "/usr/local/lib/python3.7/dist-packages/keras/optimizer_v2/adam.py:105: UserWarning: The `lr` argument is deprecated, use `learning_rate` instead.\n",
            "  super(Adam, self).__init__(name, **kwargs)\n"
          ]
        },
        {
          "name": "stdout",
          "output_type": "stream",
          "text": [
            "1236/1236 [==============================] - 11s 9ms/step - loss: 3.8228 - accuracy: 0.0490\n",
            "618/618 [==============================] - 2s 3ms/step\n"
          ]
        },
        {
          "name": "stderr",
          "output_type": "stream",
          "text": [
            "/usr/local/lib/python3.7/dist-packages/keras/optimizer_v2/adam.py:105: UserWarning: The `lr` argument is deprecated, use `learning_rate` instead.\n",
            "  super(Adam, self).__init__(name, **kwargs)\n"
          ]
        },
        {
          "name": "stdout",
          "output_type": "stream",
          "text": [
            "1236/1236 [==============================] - 12s 9ms/step - loss: 4.6666 - accuracy: 0.0494\n",
            "618/618 [==============================] - 2s 2ms/step\n"
          ]
        },
        {
          "name": "stderr",
          "output_type": "stream",
          "text": [
            "/usr/local/lib/python3.7/dist-packages/keras/optimizer_v2/adam.py:105: UserWarning: The `lr` argument is deprecated, use `learning_rate` instead.\n",
            "  super(Adam, self).__init__(name, **kwargs)\n"
          ]
        },
        {
          "name": "stdout",
          "output_type": "stream",
          "text": [
            "1236/1236 [==============================] - 11s 9ms/step - loss: 6.0112 - accuracy: 0.0485\n",
            "618/618 [==============================] - 2s 3ms/step\n"
          ]
        },
        {
          "name": "stderr",
          "output_type": "stream",
          "text": [
            "/usr/local/lib/python3.7/dist-packages/keras/optimizer_v2/adam.py:105: UserWarning: The `lr` argument is deprecated, use `learning_rate` instead.\n",
            "  super(Adam, self).__init__(name, **kwargs)\n"
          ]
        },
        {
          "name": "stdout",
          "output_type": "stream",
          "text": [
            "1236/1236 [==============================] - 11s 9ms/step - loss: 5.4646 - accuracy: 0.0494\n",
            "618/618 [==============================] - 2s 3ms/step\n"
          ]
        },
        {
          "name": "stderr",
          "output_type": "stream",
          "text": [
            "/usr/local/lib/python3.7/dist-packages/keras/optimizer_v2/adam.py:105: UserWarning: The `lr` argument is deprecated, use `learning_rate` instead.\n",
            "  super(Adam, self).__init__(name, **kwargs)\n"
          ]
        },
        {
          "name": "stdout",
          "output_type": "stream",
          "text": [
            "1236/1236 [==============================] - 11s 9ms/step - loss: 6.9827 - accuracy: 0.0491\n",
            "618/618 [==============================] - 2s 2ms/step\n"
          ]
        },
        {
          "name": "stderr",
          "output_type": "stream",
          "text": [
            "/usr/local/lib/python3.7/dist-packages/keras/optimizer_v2/adam.py:105: UserWarning: The `lr` argument is deprecated, use `learning_rate` instead.\n",
            "  super(Adam, self).__init__(name, **kwargs)\n"
          ]
        },
        {
          "name": "stdout",
          "output_type": "stream",
          "text": [
            "1236/1236 [==============================] - 11s 9ms/step - loss: 5.5963 - accuracy: 0.0510\n",
            "618/618 [==============================] - 2s 3ms/step\n"
          ]
        },
        {
          "name": "stderr",
          "output_type": "stream",
          "text": [
            "/usr/local/lib/python3.7/dist-packages/keras/optimizer_v2/adam.py:105: UserWarning: The `lr` argument is deprecated, use `learning_rate` instead.\n",
            "  super(Adam, self).__init__(name, **kwargs)\n"
          ]
        },
        {
          "name": "stdout",
          "output_type": "stream",
          "text": [
            "1236/1236 [==============================] - 11s 9ms/step - loss: 5.8130 - accuracy: 0.0496\n",
            "618/618 [==============================] - 2s 3ms/step\n"
          ]
        },
        {
          "name": "stderr",
          "output_type": "stream",
          "text": [
            "/usr/local/lib/python3.7/dist-packages/keras/optimizer_v2/adam.py:105: UserWarning: The `lr` argument is deprecated, use `learning_rate` instead.\n",
            "  super(Adam, self).__init__(name, **kwargs)\n"
          ]
        },
        {
          "name": "stdout",
          "output_type": "stream",
          "text": [
            "1236/1236 [==============================] - 11s 9ms/step - loss: 1.1670 - accuracy: 0.6729\n",
            "618/618 [==============================] - 2s 3ms/step\n"
          ]
        },
        {
          "name": "stderr",
          "output_type": "stream",
          "text": [
            "/usr/local/lib/python3.7/dist-packages/keras/optimizer_v2/adam.py:105: UserWarning: The `lr` argument is deprecated, use `learning_rate` instead.\n",
            "  super(Adam, self).__init__(name, **kwargs)\n"
          ]
        },
        {
          "name": "stdout",
          "output_type": "stream",
          "text": [
            "1236/1236 [==============================] - 12s 9ms/step - loss: 1.1530 - accuracy: 0.6752\n",
            "618/618 [==============================] - 2s 3ms/step\n"
          ]
        },
        {
          "name": "stderr",
          "output_type": "stream",
          "text": [
            "/usr/local/lib/python3.7/dist-packages/keras/optimizer_v2/adam.py:105: UserWarning: The `lr` argument is deprecated, use `learning_rate` instead.\n",
            "  super(Adam, self).__init__(name, **kwargs)\n"
          ]
        },
        {
          "name": "stdout",
          "output_type": "stream",
          "text": [
            "1236/1236 [==============================] - 11s 9ms/step - loss: 1.1707 - accuracy: 0.6726\n",
            "618/618 [==============================] - 2s 3ms/step\n"
          ]
        },
        {
          "name": "stderr",
          "output_type": "stream",
          "text": [
            "/usr/local/lib/python3.7/dist-packages/keras/optimizer_v2/adam.py:105: UserWarning: The `lr` argument is deprecated, use `learning_rate` instead.\n",
            "  super(Adam, self).__init__(name, **kwargs)\n"
          ]
        },
        {
          "name": "stdout",
          "output_type": "stream",
          "text": [
            "1236/1236 [==============================] - 12s 9ms/step - loss: 1.1102 - accuracy: 0.6857\n",
            "618/618 [==============================] - 2s 3ms/step\n"
          ]
        },
        {
          "name": "stderr",
          "output_type": "stream",
          "text": [
            "/usr/local/lib/python3.7/dist-packages/keras/optimizer_v2/adam.py:105: UserWarning: The `lr` argument is deprecated, use `learning_rate` instead.\n",
            "  super(Adam, self).__init__(name, **kwargs)\n"
          ]
        },
        {
          "name": "stdout",
          "output_type": "stream",
          "text": [
            "1236/1236 [==============================] - 11s 9ms/step - loss: 1.1302 - accuracy: 0.6809\n",
            "618/618 [==============================] - 2s 3ms/step\n"
          ]
        },
        {
          "name": "stderr",
          "output_type": "stream",
          "text": [
            "/usr/local/lib/python3.7/dist-packages/keras/optimizer_v2/adam.py:105: UserWarning: The `lr` argument is deprecated, use `learning_rate` instead.\n",
            "  super(Adam, self).__init__(name, **kwargs)\n"
          ]
        },
        {
          "name": "stdout",
          "output_type": "stream",
          "text": [
            "1236/1236 [==============================] - 12s 9ms/step - loss: 1.1171 - accuracy: 0.6821\n",
            "618/618 [==============================] - 2s 3ms/step\n"
          ]
        },
        {
          "name": "stderr",
          "output_type": "stream",
          "text": [
            "/usr/local/lib/python3.7/dist-packages/keras/optimizer_v2/adam.py:105: UserWarning: The `lr` argument is deprecated, use `learning_rate` instead.\n",
            "  super(Adam, self).__init__(name, **kwargs)\n"
          ]
        },
        {
          "name": "stdout",
          "output_type": "stream",
          "text": [
            "1236/1236 [==============================] - 11s 9ms/step - loss: 2.9844 - accuracy: 0.2518\n",
            "618/618 [==============================] - 2s 2ms/step\n"
          ]
        },
        {
          "name": "stderr",
          "output_type": "stream",
          "text": [
            "/usr/local/lib/python3.7/dist-packages/keras/optimizer_v2/adam.py:105: UserWarning: The `lr` argument is deprecated, use `learning_rate` instead.\n",
            "  super(Adam, self).__init__(name, **kwargs)\n"
          ]
        },
        {
          "name": "stdout",
          "output_type": "stream",
          "text": [
            "1236/1236 [==============================] - 11s 9ms/step - loss: 2.9996 - accuracy: 0.2756\n",
            "618/618 [==============================] - 2s 2ms/step\n"
          ]
        },
        {
          "name": "stderr",
          "output_type": "stream",
          "text": [
            "/usr/local/lib/python3.7/dist-packages/keras/optimizer_v2/adam.py:105: UserWarning: The `lr` argument is deprecated, use `learning_rate` instead.\n",
            "  super(Adam, self).__init__(name, **kwargs)\n"
          ]
        },
        {
          "name": "stdout",
          "output_type": "stream",
          "text": [
            "1236/1236 [==============================] - 11s 9ms/step - loss: 3.8019 - accuracy: 0.0489\n",
            "618/618 [==============================] - 2s 2ms/step\n"
          ]
        },
        {
          "name": "stderr",
          "output_type": "stream",
          "text": [
            "/usr/local/lib/python3.7/dist-packages/keras/optimizer_v2/adam.py:105: UserWarning: The `lr` argument is deprecated, use `learning_rate` instead.\n",
            "  super(Adam, self).__init__(name, **kwargs)\n"
          ]
        },
        {
          "name": "stdout",
          "output_type": "stream",
          "text": [
            "1236/1236 [==============================] - 11s 9ms/step - loss: 4.1940 - accuracy: 0.0497\n",
            "618/618 [==============================] - 2s 2ms/step\n"
          ]
        },
        {
          "name": "stderr",
          "output_type": "stream",
          "text": [
            "/usr/local/lib/python3.7/dist-packages/keras/optimizer_v2/adam.py:105: UserWarning: The `lr` argument is deprecated, use `learning_rate` instead.\n",
            "  super(Adam, self).__init__(name, **kwargs)\n"
          ]
        },
        {
          "name": "stdout",
          "output_type": "stream",
          "text": [
            "1236/1236 [==============================] - 12s 9ms/step - loss: 4.6058 - accuracy: 0.0487\n",
            "618/618 [==============================] - 2s 3ms/step\n"
          ]
        },
        {
          "name": "stderr",
          "output_type": "stream",
          "text": [
            "/usr/local/lib/python3.7/dist-packages/keras/optimizer_v2/adam.py:105: UserWarning: The `lr` argument is deprecated, use `learning_rate` instead.\n",
            "  super(Adam, self).__init__(name, **kwargs)\n"
          ]
        },
        {
          "name": "stdout",
          "output_type": "stream",
          "text": [
            "1236/1236 [==============================] - 11s 9ms/step - loss: 5.2066 - accuracy: 0.0495\n",
            "618/618 [==============================] - 2s 3ms/step\n"
          ]
        },
        {
          "name": "stderr",
          "output_type": "stream",
          "text": [
            "/usr/local/lib/python3.7/dist-packages/keras/optimizer_v2/adam.py:105: UserWarning: The `lr` argument is deprecated, use `learning_rate` instead.\n",
            "  super(Adam, self).__init__(name, **kwargs)\n"
          ]
        },
        {
          "name": "stdout",
          "output_type": "stream",
          "text": [
            "1236/1236 [==============================] - 11s 9ms/step - loss: 7.5598 - accuracy: 0.0494\n",
            "618/618 [==============================] - 2s 3ms/step\n"
          ]
        },
        {
          "name": "stderr",
          "output_type": "stream",
          "text": [
            "/usr/local/lib/python3.7/dist-packages/keras/optimizer_v2/adam.py:105: UserWarning: The `lr` argument is deprecated, use `learning_rate` instead.\n",
            "  super(Adam, self).__init__(name, **kwargs)\n"
          ]
        },
        {
          "name": "stdout",
          "output_type": "stream",
          "text": [
            "1236/1236 [==============================] - 11s 9ms/step - loss: 9.3632 - accuracy: 0.0509\n",
            "618/618 [==============================] - 2s 3ms/step\n"
          ]
        },
        {
          "name": "stderr",
          "output_type": "stream",
          "text": [
            "/usr/local/lib/python3.7/dist-packages/keras/optimizer_v2/adam.py:105: UserWarning: The `lr` argument is deprecated, use `learning_rate` instead.\n",
            "  super(Adam, self).__init__(name, **kwargs)\n"
          ]
        },
        {
          "name": "stdout",
          "output_type": "stream",
          "text": [
            "1236/1236 [==============================] - 12s 9ms/step - loss: 9.9799 - accuracy: 0.0500\n",
            "618/618 [==============================] - 2s 3ms/step\n"
          ]
        },
        {
          "name": "stderr",
          "output_type": "stream",
          "text": [
            "/usr/local/lib/python3.7/dist-packages/keras/optimizer_v2/adam.py:105: UserWarning: The `lr` argument is deprecated, use `learning_rate` instead.\n",
            "  super(Adam, self).__init__(name, **kwargs)\n"
          ]
        },
        {
          "name": "stdout",
          "output_type": "stream",
          "text": [
            "1236/1236 [==============================] - 11s 9ms/step - loss: 1.1562 - accuracy: 0.6772\n",
            "618/618 [==============================] - 2s 2ms/step\n"
          ]
        },
        {
          "name": "stderr",
          "output_type": "stream",
          "text": [
            "/usr/local/lib/python3.7/dist-packages/keras/optimizer_v2/adam.py:105: UserWarning: The `lr` argument is deprecated, use `learning_rate` instead.\n",
            "  super(Adam, self).__init__(name, **kwargs)\n"
          ]
        },
        {
          "name": "stdout",
          "output_type": "stream",
          "text": [
            "1236/1236 [==============================] - 11s 9ms/step - loss: 1.1519 - accuracy: 0.6769\n",
            "618/618 [==============================] - 2s 3ms/step\n"
          ]
        },
        {
          "name": "stderr",
          "output_type": "stream",
          "text": [
            "/usr/local/lib/python3.7/dist-packages/keras/optimizer_v2/adam.py:105: UserWarning: The `lr` argument is deprecated, use `learning_rate` instead.\n",
            "  super(Adam, self).__init__(name, **kwargs)\n"
          ]
        },
        {
          "name": "stdout",
          "output_type": "stream",
          "text": [
            "1236/1236 [==============================] - 11s 9ms/step - loss: 1.1654 - accuracy: 0.6710\n",
            "618/618 [==============================] - 2s 3ms/step\n"
          ]
        },
        {
          "name": "stderr",
          "output_type": "stream",
          "text": [
            "/usr/local/lib/python3.7/dist-packages/keras/optimizer_v2/adam.py:105: UserWarning: The `lr` argument is deprecated, use `learning_rate` instead.\n",
            "  super(Adam, self).__init__(name, **kwargs)\n"
          ]
        },
        {
          "name": "stdout",
          "output_type": "stream",
          "text": [
            "1236/1236 [==============================] - 11s 9ms/step - loss: 1.0779 - accuracy: 0.6939\n",
            "618/618 [==============================] - 2s 3ms/step\n"
          ]
        },
        {
          "name": "stderr",
          "output_type": "stream",
          "text": [
            "/usr/local/lib/python3.7/dist-packages/keras/optimizer_v2/adam.py:105: UserWarning: The `lr` argument is deprecated, use `learning_rate` instead.\n",
            "  super(Adam, self).__init__(name, **kwargs)\n"
          ]
        },
        {
          "name": "stdout",
          "output_type": "stream",
          "text": [
            "1236/1236 [==============================] - 11s 9ms/step - loss: 1.1579 - accuracy: 0.6737\n",
            "618/618 [==============================] - 2s 2ms/step\n"
          ]
        },
        {
          "name": "stderr",
          "output_type": "stream",
          "text": [
            "/usr/local/lib/python3.7/dist-packages/keras/optimizer_v2/adam.py:105: UserWarning: The `lr` argument is deprecated, use `learning_rate` instead.\n",
            "  super(Adam, self).__init__(name, **kwargs)\n"
          ]
        },
        {
          "name": "stdout",
          "output_type": "stream",
          "text": [
            "1236/1236 [==============================] - 11s 9ms/step - loss: 1.0915 - accuracy: 0.6882\n",
            "618/618 [==============================] - 2s 2ms/step\n"
          ]
        },
        {
          "name": "stderr",
          "output_type": "stream",
          "text": [
            "/usr/local/lib/python3.7/dist-packages/keras/optimizer_v2/adam.py:105: UserWarning: The `lr` argument is deprecated, use `learning_rate` instead.\n",
            "  super(Adam, self).__init__(name, **kwargs)\n"
          ]
        },
        {
          "name": "stdout",
          "output_type": "stream",
          "text": [
            "1236/1236 [==============================] - 11s 9ms/step - loss: 3.8308 - accuracy: 0.0498\n",
            "618/618 [==============================] - 2s 3ms/step\n"
          ]
        },
        {
          "name": "stderr",
          "output_type": "stream",
          "text": [
            "/usr/local/lib/python3.7/dist-packages/keras/optimizer_v2/adam.py:105: UserWarning: The `lr` argument is deprecated, use `learning_rate` instead.\n",
            "  super(Adam, self).__init__(name, **kwargs)\n"
          ]
        },
        {
          "name": "stdout",
          "output_type": "stream",
          "text": [
            "1236/1236 [==============================] - 11s 9ms/step - loss: 3.8432 - accuracy: 0.0490\n",
            "618/618 [==============================] - 2s 3ms/step\n"
          ]
        },
        {
          "name": "stderr",
          "output_type": "stream",
          "text": [
            "/usr/local/lib/python3.7/dist-packages/keras/optimizer_v2/adam.py:105: UserWarning: The `lr` argument is deprecated, use `learning_rate` instead.\n",
            "  super(Adam, self).__init__(name, **kwargs)\n"
          ]
        },
        {
          "name": "stdout",
          "output_type": "stream",
          "text": [
            "1236/1236 [==============================] - 12s 9ms/step - loss: 3.8447 - accuracy: 0.0489\n",
            "618/618 [==============================] - 2s 3ms/step\n"
          ]
        },
        {
          "name": "stderr",
          "output_type": "stream",
          "text": [
            "/usr/local/lib/python3.7/dist-packages/keras/optimizer_v2/adam.py:105: UserWarning: The `lr` argument is deprecated, use `learning_rate` instead.\n",
            "  super(Adam, self).__init__(name, **kwargs)\n"
          ]
        },
        {
          "name": "stdout",
          "output_type": "stream",
          "text": [
            "1236/1236 [==============================] - 11s 9ms/step - loss: 4.4062 - accuracy: 0.0497\n",
            "618/618 [==============================] - 2s 3ms/step\n"
          ]
        },
        {
          "name": "stderr",
          "output_type": "stream",
          "text": [
            "/usr/local/lib/python3.7/dist-packages/keras/optimizer_v2/adam.py:105: UserWarning: The `lr` argument is deprecated, use `learning_rate` instead.\n",
            "  super(Adam, self).__init__(name, **kwargs)\n"
          ]
        },
        {
          "name": "stdout",
          "output_type": "stream",
          "text": [
            "1236/1236 [==============================] - 11s 9ms/step - loss: 4.4863 - accuracy: 0.0485\n",
            "618/618 [==============================] - 2s 3ms/step\n"
          ]
        },
        {
          "name": "stderr",
          "output_type": "stream",
          "text": [
            "/usr/local/lib/python3.7/dist-packages/keras/optimizer_v2/adam.py:105: UserWarning: The `lr` argument is deprecated, use `learning_rate` instead.\n",
            "  super(Adam, self).__init__(name, **kwargs)\n"
          ]
        },
        {
          "name": "stdout",
          "output_type": "stream",
          "text": [
            "1236/1236 [==============================] - 11s 9ms/step - loss: 4.9672 - accuracy: 0.0491\n",
            "618/618 [==============================] - 2s 3ms/step\n"
          ]
        },
        {
          "name": "stderr",
          "output_type": "stream",
          "text": [
            "/usr/local/lib/python3.7/dist-packages/keras/optimizer_v2/adam.py:105: UserWarning: The `lr` argument is deprecated, use `learning_rate` instead.\n",
            "  super(Adam, self).__init__(name, **kwargs)\n"
          ]
        },
        {
          "name": "stdout",
          "output_type": "stream",
          "text": [
            "1236/1236 [==============================] - 12s 9ms/step - loss: 6.4264 - accuracy: 0.0501\n",
            "618/618 [==============================] - 2s 3ms/step\n"
          ]
        },
        {
          "name": "stderr",
          "output_type": "stream",
          "text": [
            "/usr/local/lib/python3.7/dist-packages/keras/optimizer_v2/adam.py:105: UserWarning: The `lr` argument is deprecated, use `learning_rate` instead.\n",
            "  super(Adam, self).__init__(name, **kwargs)\n"
          ]
        },
        {
          "name": "stdout",
          "output_type": "stream",
          "text": [
            "1236/1236 [==============================] - 11s 9ms/step - loss: 10.0213 - accuracy: 0.0507\n",
            "618/618 [==============================] - 2s 3ms/step\n"
          ]
        },
        {
          "name": "stderr",
          "output_type": "stream",
          "text": [
            "/usr/local/lib/python3.7/dist-packages/keras/optimizer_v2/adam.py:105: UserWarning: The `lr` argument is deprecated, use `learning_rate` instead.\n",
            "  super(Adam, self).__init__(name, **kwargs)\n"
          ]
        },
        {
          "name": "stdout",
          "output_type": "stream",
          "text": [
            "1236/1236 [==============================] - 11s 9ms/step - loss: 6.4577 - accuracy: 0.0494\n",
            "618/618 [==============================] - 2s 3ms/step\n"
          ]
        },
        {
          "name": "stderr",
          "output_type": "stream",
          "text": [
            "/usr/local/lib/python3.7/dist-packages/keras/optimizer_v2/adam.py:105: UserWarning: The `lr` argument is deprecated, use `learning_rate` instead.\n",
            "  super(Adam, self).__init__(name, **kwargs)\n"
          ]
        },
        {
          "name": "stdout",
          "output_type": "stream",
          "text": [
            "1854/1854 [==============================] - 16s 9ms/step - loss: 1.0295 - accuracy: 0.7028\n"
          ]
        }
      ],
      "source": [
        "from sklearn.model_selection import GridSearchCV\n",
        "\n",
        "activation_function =  [\"relu\", \"sigmoid\", \"tanh\"]\n",
        "optimizer__lr=[0.001, 0.01, 0.1,0.2,0.3]\n",
        "\n",
        "param_grid = dict(activation_function = activation_function, optimizer__lr = optimizer__lr )\n",
        "grid = GridSearchCV(estimator=keras_classifier, param_grid=param_grid,cv=3)\n",
        "grid_result = grid.fit(X_train, y_train)"
      ],
      "id": "-FR9nq9TF349"
    },
    {
      "cell_type": "code",
      "execution_count": null,
      "metadata": {
        "colab": {
          "base_uri": "https://localhost:8080/"
        },
        "id": "dYZ3B9B2GOrV",
        "outputId": "50b992ca-071f-4d7b-9551-74db4ad50cda"
      },
      "outputs": [
        {
          "name": "stdout",
          "output_type": "stream",
          "text": [
            "Best: 0.789006 using {'activation_function': 'tanh', 'optimizer__lr': 0.001}\n"
          ]
        }
      ],
      "source": [
        "# summarize results\n",
        "print(\"Best: %f using %s\" % (grid_result.best_score_, grid_result.best_params_))"
      ],
      "id": "dYZ3B9B2GOrV"
    },
    {
      "cell_type": "code",
      "execution_count": null,
      "metadata": {
        "id": "c906b6b8"
      },
      "outputs": [],
      "source": [
        "from keras import optimizers\n",
        "from tensorflow import keras\n",
        "from tensorflow.keras import layers\n",
        "cnn_model = keras.Sequential([\n",
        "    keras.Input(shape=(28, 28, 1)),\n",
        "\n",
        "    keras.layers.Conv2D(32, kernel_size=(3, 3), activation=\"tanh\"),\n",
        "    keras.layers.MaxPooling2D(pool_size=(2, 2)),\n",
        "    \n",
        "    keras.layers.Conv2D(64, kernel_size=(3, 3), activation=\"tanh\"),\n",
        "    keras.layers.MaxPooling2D(pool_size=(2, 2)),\n",
        "\n",
        "    # keras.layers.Conv2D(128, kernel_size=(3, 3), activation=\"relu\"),\n",
        "    # keras.layers.MaxPooling2D(pool_size=(2, 2)),\n",
        "    \n",
        "    keras.layers.Flatten(),\n",
        "    keras.layers.Dropout(0.5),\n",
        "    keras.layers.Dense(70, activation=\"softmax\"),\n",
        "])\n",
        "optm = tf.keras.optimizers.Adam(learning_rate=0.01)\n",
        "# Compile model, optimze the speed by using Adam optimiser\n",
        "cnn_model.compile(optimizer=optm,loss='sparse_categorical_crossentropy',metrics=['accuracy'])\n"
      ],
      "id": "c906b6b8"
    },
    {
      "cell_type": "code",
      "execution_count": null,
      "metadata": {
        "colab": {
          "base_uri": "https://localhost:8080/"
        },
        "id": "09241253",
        "outputId": "84f51bf5-66d0-43da-deb1-810d0dd4e107"
      },
      "outputs": [
        {
          "name": "stdout",
          "output_type": "stream",
          "text": [
            "Model: \"sequential_65\"\n",
            "_________________________________________________________________\n",
            " Layer (type)                Output Shape              Param #   \n",
            "=================================================================\n",
            " conv2d_130 (Conv2D)         (None, 26, 26, 32)        320       \n",
            "                                                                 \n",
            " max_pooling2d_130 (MaxPooli  (None, 13, 13, 32)       0         \n",
            " ng2D)                                                           \n",
            "                                                                 \n",
            " conv2d_131 (Conv2D)         (None, 11, 11, 64)        18496     \n",
            "                                                                 \n",
            " max_pooling2d_131 (MaxPooli  (None, 5, 5, 64)         0         \n",
            " ng2D)                                                           \n",
            "                                                                 \n",
            " flatten_65 (Flatten)        (None, 1600)              0         \n",
            "                                                                 \n",
            " dropout_65 (Dropout)        (None, 1600)              0         \n",
            "                                                                 \n",
            " dense_65 (Dense)            (None, 70)                112070    \n",
            "                                                                 \n",
            "=================================================================\n",
            "Total params: 130,886\n",
            "Trainable params: 130,886\n",
            "Non-trainable params: 0\n",
            "_________________________________________________________________\n"
          ]
        }
      ],
      "source": [
        "cnn_model.summary()"
      ],
      "id": "09241253"
    },
    {
      "cell_type": "code",
      "execution_count": null,
      "metadata": {
        "colab": {
          "base_uri": "https://localhost:8080/"
        },
        "id": "d460ef64",
        "outputId": "25731f15-e2b6-47f9-983a-09ca19a3d916"
      },
      "outputs": [
        {
          "name": "stdout",
          "output_type": "stream",
          "text": [
            "Epoch 1/10\n",
            "464/464 [==============================] - 9s 18ms/step - loss: 1.0193 - accuracy: 0.7052 - val_loss: 0.7101 - val_accuracy: 0.7802\n",
            "Epoch 2/10\n",
            "464/464 [==============================] - 8s 17ms/step - loss: 0.8106 - accuracy: 0.7558 - val_loss: 0.7138 - val_accuracy: 0.7773\n",
            "Epoch 3/10\n",
            "464/464 [==============================] - 8s 17ms/step - loss: 0.7918 - accuracy: 0.7608 - val_loss: 0.7034 - val_accuracy: 0.7843\n",
            "Epoch 4/10\n",
            "464/464 [==============================] - 8s 17ms/step - loss: 0.7976 - accuracy: 0.7594 - val_loss: 0.6538 - val_accuracy: 0.8004\n",
            "Epoch 5/10\n",
            "464/464 [==============================] - 8s 17ms/step - loss: 0.7901 - accuracy: 0.7628 - val_loss: 0.7078 - val_accuracy: 0.7928\n",
            "Epoch 6/10\n",
            "464/464 [==============================] - 8s 17ms/step - loss: 0.7762 - accuracy: 0.7644 - val_loss: 0.7609 - val_accuracy: 0.7673\n",
            "Epoch 7/10\n",
            "464/464 [==============================] - 8s 17ms/step - loss: 0.8002 - accuracy: 0.7620 - val_loss: 0.6676 - val_accuracy: 0.7941\n",
            "Epoch 8/10\n",
            "464/464 [==============================] - 8s 17ms/step - loss: 0.7744 - accuracy: 0.7668 - val_loss: 0.6918 - val_accuracy: 0.7907\n",
            "Epoch 9/10\n",
            "464/464 [==============================] - 8s 17ms/step - loss: 0.7653 - accuracy: 0.7689 - val_loss: 0.6982 - val_accuracy: 0.7876\n",
            "Epoch 10/10\n",
            "464/464 [==============================] - 8s 18ms/step - loss: 0.7785 - accuracy: 0.7667 - val_loss: 0.7401 - val_accuracy: 0.7812\n"
          ]
        }
      ],
      "source": [
        "# Train the model \n",
        "epochs = 10\n",
        "batch_size = 128\n",
        "history = cnn_model.fit(X_train, y_train, batch_size=batch_size,\n",
        "                    epochs=epochs, validation_data=(X_v, y_v))"
      ],
      "id": "d460ef64"
    },
    {
      "cell_type": "code",
      "execution_count": null,
      "metadata": {
        "colab": {
          "base_uri": "https://localhost:8080/"
        },
        "id": "N4FkDEGZYGv5",
        "outputId": "7c4454a9-5a48-4078-b6f0-5b6f146b08d0"
      },
      "outputs": [
        {
          "name": "stdout",
          "output_type": "stream",
          "text": [
            "364/364 [==============================] - 1s 3ms/step - loss: 0.7064 - accuracy: 0.7892\n",
            "Accuracy on test data: 0.7892\n"
          ]
        }
      ],
      "source": [
        "loss, accuracy = cnn_model.evaluate(X_test, y_test)\n",
        "print(f\"Accuracy on test data: {accuracy:.4f}\")"
      ],
      "id": "N4FkDEGZYGv5"
    },
    {
      "cell_type": "code",
      "execution_count": null,
      "metadata": {
        "colab": {
          "base_uri": "https://localhost:8080/",
          "height": 350
        },
        "id": "b8e10532",
        "outputId": "c982a825-083a-42a2-ad95-42e18fc1ccb1"
      },
      "outputs": [
        {
          "data": {
            "image/png": "[encoded data removed]",
            "text/plain": [
              "<Figure size 576x360 with 1 Axes>"
            ]
          },
          "metadata": {},
          "output_type": "display_data"
        }
      ],
      "source": [
        "import pandas as pd\n",
        "accuracies = pd.DataFrame(history.history)[['accuracy', 'val_accuracy']]\n",
        "accuracies.plot(figsize=(8, 5))\n",
        "plt.grid(True)\n",
        "plt.gca().set_ylim(0, 1)\n",
        "plt.xlabel('Epoch')\n",
        "plt.ylabel('Accuracy')\n",
        "plt.title('Plot for best model of CNN')\n",
        "plt.show()"
      ],
      "id": "b8e10532"
    },
    {
      "cell_type": "code",
      "execution_count": null,
      "metadata": {
        "id": "d-qgbQqjJM4q"
      },
      "outputs": [],
      "source": [
        "def build_mlp(\n",
        "    n_hidden_layers=3, n_hidden_neurons=20,\n",
        "    activation_function=\"relu\", input_shape=[28,28]\n",
        "):\n",
        "    \n",
        "    model = keras.models.Sequential()\n",
        "   \n",
        "    model.add(keras.layers.Flatten(input_shape=[28, 28]))\n",
        "\n",
        "    for layer in range(n_hidden_layers):\n",
        "        model.add(keras.layers.Dense(n_hidden_neurons, activation=\"relu\"))\n",
        "\n",
        "    model.add(keras.layers.Dense(70, activation=\"softmax\"))\n",
        "    \n",
        "    return model"
      ],
      "id": "d-qgbQqjJM4q"
    },
    {
      "cell_type": "code",
      "execution_count": null,
      "metadata": {
        "id": "u2a_rBGPKE8y"
      },
      "outputs": [],
      "source": [
        "from scikeras.wrappers import KerasClassifier\n",
        "mlp_classifier = KerasClassifier(build_mlp,\n",
        "                                   n_hidden_layers=3,\n",
        "                                   n_hidden_neurons=50,\n",
        "                                   activation_function=\"relu\",\n",
        "                                   loss=\"sparse_categorical_crossentropy\",\n",
        "                                   optimizer=\"adam\",\n",
        "                                   optimizer__lr=0.01,\n",
        "                                   metrics=[\"accuracy\"]\n",
        "                                  )"
      ],
      "id": "u2a_rBGPKE8y"
    },
    {
      "cell_type": "code",
      "execution_count": null,
      "metadata": {
        "id": "H36xDEluJZJW"
      },
      "outputs": [],
      "source": [
        "# from sklearn.model_selection import GridSearchCV\n",
        "\n",
        "# param_grid = {\n",
        "#     \"n_hidden_layers\":[2,5,10],\n",
        "#     \"n_hidden_neurons\": [20,50,10],\n",
        "#     \"optimizer__lr\": [0.1, 0.01],\n",
        "#     \"activation_function\": [\"relu\", \"sigmoid\", \"tanh\"]\n",
        "# }\n",
        "\n",
        "# grid_search_cv = GridSearchCV(mlp_classifier, param_grid, cv=3)\n",
        "# grid_search_cv.fit(X_train, y_train, epochs=5)"
      ],
      "id": "H36xDEluJZJW"
    },
    {
      "cell_type": "code",
      "execution_count": null,
      "metadata": {
        "id": "7R3E9XyTJbeu"
      },
      "outputs": [],
      "source": [
        "# # summarize results\n",
        "# print(\"Best: %f using %s\" % (grid_search_cv.best_score_, grid_search_cv.best_params_))"
      ],
      "id": "7R3E9XyTJbeu"
    },
    {
      "cell_type": "code",
      "execution_count": null,
      "metadata": {
        "colab": {
          "base_uri": "https://localhost:8080/"
        },
        "id": "2sH3rI01XGWA",
        "outputId": "5718c01a-2a7c-44a7-dba0-249ed0eab3d6"
      },
      "outputs": [
        {
          "name": "stderr",
          "output_type": "stream",
          "text": [
            "/usr/local/lib/python3.7/dist-packages/keras/optimizer_v2/adam.py:105: UserWarning: The `lr` argument is deprecated, use `learning_rate` instead.\n",
            "  super(Adam, self).__init__(name, **kwargs)\n"
          ]
        },
        {
          "name": "stdout",
          "output_type": "stream",
          "text": [
            "Epoch 1/5\n",
            "1236/1236 [==============================] - 3s 2ms/step - loss: 3.3210 - accuracy: 0.1411\n",
            "Epoch 2/5\n",
            "1236/1236 [==============================] - 3s 2ms/step - loss: 3.2794 - accuracy: 0.1267\n",
            "Epoch 3/5\n",
            "1236/1236 [==============================] - 3s 2ms/step - loss: 3.3875 - accuracy: 0.1038\n",
            "Epoch 4/5\n",
            "1236/1236 [==============================] - 2s 2ms/step - loss: 3.5213 - accuracy: 0.0850\n",
            "Epoch 5/5\n",
            "1236/1236 [==============================] - 2s 2ms/step - loss: 3.5024 - accuracy: 0.0863\n",
            "618/618 [==============================] - 1s 1ms/step\n"
          ]
        },
        {
          "name": "stderr",
          "output_type": "stream",
          "text": [
            "/usr/local/lib/python3.7/dist-packages/keras/optimizer_v2/adam.py:105: UserWarning: The `lr` argument is deprecated, use `learning_rate` instead.\n",
            "  super(Adam, self).__init__(name, **kwargs)\n"
          ]
        },
        {
          "name": "stdout",
          "output_type": "stream",
          "text": [
            "Epoch 1/5\n",
            "1236/1236 [==============================] - 3s 2ms/step - loss: 3.7835 - accuracy: 0.0493\n",
            "Epoch 2/5\n",
            "1236/1236 [==============================] - 2s 2ms/step - loss: 3.7122 - accuracy: 0.0500\n",
            "Epoch 3/5\n",
            "1236/1236 [==============================] - 3s 2ms/step - loss: 3.7122 - accuracy: 0.0505\n",
            "Epoch 4/5\n",
            "1236/1236 [==============================] - 2s 2ms/step - loss: 3.7118 - accuracy: 0.0513\n",
            "Epoch 5/5\n",
            "1236/1236 [==============================] - 2s 2ms/step - loss: 3.7135 - accuracy: 0.0487\n",
            "618/618 [==============================] - 1s 960us/step\n"
          ]
        },
        {
          "name": "stderr",
          "output_type": "stream",
          "text": [
            "/usr/local/lib/python3.7/dist-packages/keras/optimizer_v2/adam.py:105: UserWarning: The `lr` argument is deprecated, use `learning_rate` instead.\n",
            "  super(Adam, self).__init__(name, **kwargs)\n"
          ]
        },
        {
          "name": "stdout",
          "output_type": "stream",
          "text": [
            "Epoch 1/5\n",
            "1236/1236 [==============================] - 3s 2ms/step - loss: 3.7735 - accuracy: 0.0499\n",
            "Epoch 2/5\n",
            "1236/1236 [==============================] - 2s 2ms/step - loss: 3.7137 - accuracy: 0.0509\n",
            "Epoch 3/5\n",
            "1236/1236 [==============================] - 2s 2ms/step - loss: 3.7138 - accuracy: 0.0494\n",
            "Epoch 4/5\n",
            "1236/1236 [==============================] - 2s 2ms/step - loss: 3.7122 - accuracy: 0.0515\n",
            "Epoch 5/5\n",
            "1236/1236 [==============================] - 2s 2ms/step - loss: 3.7136 - accuracy: 0.0501\n",
            "618/618 [==============================] - 1s 1ms/step\n"
          ]
        },
        {
          "name": "stderr",
          "output_type": "stream",
          "text": [
            "/usr/local/lib/python3.7/dist-packages/keras/optimizer_v2/adam.py:105: UserWarning: The `lr` argument is deprecated, use `learning_rate` instead.\n",
            "  super(Adam, self).__init__(name, **kwargs)\n"
          ]
        },
        {
          "name": "stdout",
          "output_type": "stream",
          "text": [
            "Epoch 1/5\n",
            "1236/1236 [==============================] - 3s 2ms/step - loss: 1.5384 - accuracy: 0.5735\n",
            "Epoch 2/5\n",
            "1236/1236 [==============================] - 3s 2ms/step - loss: 1.2328 - accuracy: 0.6431\n",
            "Epoch 3/5\n",
            "1236/1236 [==============================] - 2s 2ms/step - loss: 1.1757 - accuracy: 0.6619\n",
            "Epoch 4/5\n",
            "1236/1236 [==============================] - 2s 2ms/step - loss: 1.1612 - accuracy: 0.6677\n",
            "Epoch 5/5\n",
            "1236/1236 [==============================] - 2s 2ms/step - loss: 1.1374 - accuracy: 0.6724\n",
            "618/618 [==============================] - 1s 1ms/step\n"
          ]
        },
        {
          "name": "stderr",
          "output_type": "stream",
          "text": [
            "/usr/local/lib/python3.7/dist-packages/keras/optimizer_v2/adam.py:105: UserWarning: The `lr` argument is deprecated, use `learning_rate` instead.\n",
            "  super(Adam, self).__init__(name, **kwargs)\n"
          ]
        },
        {
          "name": "stdout",
          "output_type": "stream",
          "text": [
            "Epoch 1/5\n",
            "1236/1236 [==============================] - 3s 2ms/step - loss: 1.5419 - accuracy: 0.5738\n",
            "Epoch 2/5\n",
            "1236/1236 [==============================] - 3s 2ms/step - loss: 1.2362 - accuracy: 0.6416\n",
            "Epoch 3/5\n",
            "1236/1236 [==============================] - 2s 2ms/step - loss: 1.1859 - accuracy: 0.6566\n",
            "Epoch 4/5\n",
            "1236/1236 [==============================] - 2s 2ms/step - loss: 1.1821 - accuracy: 0.6631\n",
            "Epoch 5/5\n",
            "1236/1236 [==============================] - 2s 2ms/step - loss: 1.1703 - accuracy: 0.6637\n",
            "618/618 [==============================] - 1s 978us/step\n"
          ]
        },
        {
          "name": "stderr",
          "output_type": "stream",
          "text": [
            "/usr/local/lib/python3.7/dist-packages/keras/optimizer_v2/adam.py:105: UserWarning: The `lr` argument is deprecated, use `learning_rate` instead.\n",
            "  super(Adam, self).__init__(name, **kwargs)\n"
          ]
        },
        {
          "name": "stdout",
          "output_type": "stream",
          "text": [
            "Epoch 1/5\n",
            "1236/1236 [==============================] - 3s 2ms/step - loss: 1.5511 - accuracy: 0.5720\n",
            "Epoch 2/5\n",
            "1236/1236 [==============================] - 2s 2ms/step - loss: 1.2415 - accuracy: 0.6424\n",
            "Epoch 3/5\n",
            "1236/1236 [==============================] - 2s 2ms/step - loss: 1.1781 - accuracy: 0.6607\n",
            "Epoch 4/5\n",
            "1236/1236 [==============================] - 2s 2ms/step - loss: 1.1586 - accuracy: 0.6650\n",
            "Epoch 5/5\n",
            "1236/1236 [==============================] - 2s 2ms/step - loss: 1.1238 - accuracy: 0.6728\n",
            "618/618 [==============================] - 1s 1ms/step\n"
          ]
        },
        {
          "name": "stderr",
          "output_type": "stream",
          "text": [
            "/usr/local/lib/python3.7/dist-packages/keras/optimizer_v2/adam.py:105: UserWarning: The `lr` argument is deprecated, use `learning_rate` instead.\n",
            "  super(Adam, self).__init__(name, **kwargs)\n"
          ]
        },
        {
          "name": "stdout",
          "output_type": "stream",
          "text": [
            "Epoch 1/5\n",
            "1236/1236 [==============================] - 3s 2ms/step - loss: 3.7650 - accuracy: 0.0503\n",
            "Epoch 2/5\n",
            "1236/1236 [==============================] - 2s 2ms/step - loss: 3.7143 - accuracy: 0.0505\n",
            "Epoch 3/5\n",
            "1236/1236 [==============================] - 2s 2ms/step - loss: 3.7154 - accuracy: 0.0509\n",
            "Epoch 4/5\n",
            "1236/1236 [==============================] - 2s 2ms/step - loss: 3.7122 - accuracy: 0.0503\n",
            "Epoch 5/5\n",
            "1236/1236 [==============================] - 2s 2ms/step - loss: 3.7151 - accuracy: 0.0524\n",
            "618/618 [==============================] - 1s 1ms/step\n"
          ]
        },
        {
          "name": "stderr",
          "output_type": "stream",
          "text": [
            "/usr/local/lib/python3.7/dist-packages/keras/optimizer_v2/adam.py:105: UserWarning: The `lr` argument is deprecated, use `learning_rate` instead.\n",
            "  super(Adam, self).__init__(name, **kwargs)\n"
          ]
        },
        {
          "name": "stdout",
          "output_type": "stream",
          "text": [
            "Epoch 1/5\n",
            "1236/1236 [==============================] - 3s 2ms/step - loss: 3.6255 - accuracy: 0.0929\n",
            "Epoch 2/5\n",
            "1236/1236 [==============================] - 2s 2ms/step - loss: 3.7121 - accuracy: 0.0500\n",
            "Epoch 3/5\n",
            "1236/1236 [==============================] - 2s 2ms/step - loss: 3.7121 - accuracy: 0.0506\n",
            "Epoch 4/5\n",
            "1236/1236 [==============================] - 2s 2ms/step - loss: 3.7118 - accuracy: 0.0513\n",
            "Epoch 5/5\n",
            "1236/1236 [==============================] - 2s 2ms/step - loss: 3.7135 - accuracy: 0.0487\n",
            "618/618 [==============================] - 1s 1ms/step\n"
          ]
        },
        {
          "name": "stderr",
          "output_type": "stream",
          "text": [
            "/usr/local/lib/python3.7/dist-packages/keras/optimizer_v2/adam.py:105: UserWarning: The `lr` argument is deprecated, use `learning_rate` instead.\n",
            "  super(Adam, self).__init__(name, **kwargs)\n"
          ]
        },
        {
          "name": "stdout",
          "output_type": "stream",
          "text": [
            "Epoch 1/5\n",
            "1236/1236 [==============================] - 3s 2ms/step - loss: 3.7573 - accuracy: 0.0634\n",
            "Epoch 2/5\n",
            "1236/1236 [==============================] - 2s 2ms/step - loss: 3.7136 - accuracy: 0.0509\n",
            "Epoch 3/5\n",
            "1236/1236 [==============================] - 2s 2ms/step - loss: 3.7138 - accuracy: 0.0495\n",
            "Epoch 4/5\n",
            "1236/1236 [==============================] - 2s 2ms/step - loss: 3.7122 - accuracy: 0.0515\n",
            "Epoch 5/5\n",
            "1236/1236 [==============================] - 2s 2ms/step - loss: 3.7136 - accuracy: 0.0501\n",
            "618/618 [==============================] - 1s 966us/step\n"
          ]
        },
        {
          "name": "stderr",
          "output_type": "stream",
          "text": [
            "/usr/local/lib/python3.7/dist-packages/keras/optimizer_v2/adam.py:105: UserWarning: The `lr` argument is deprecated, use `learning_rate` instead.\n",
            "  super(Adam, self).__init__(name, **kwargs)\n"
          ]
        },
        {
          "name": "stdout",
          "output_type": "stream",
          "text": [
            "Epoch 1/5\n",
            "1236/1236 [==============================] - 3s 2ms/step - loss: 1.5327 - accuracy: 0.5739\n",
            "Epoch 2/5\n",
            "1236/1236 [==============================] - 2s 2ms/step - loss: 1.2154 - accuracy: 0.6505\n",
            "Epoch 3/5\n",
            "1236/1236 [==============================] - 2s 2ms/step - loss: 1.1668 - accuracy: 0.6676\n",
            "Epoch 4/5\n",
            "1236/1236 [==============================] - 2s 2ms/step - loss: 1.1302 - accuracy: 0.6728\n",
            "Epoch 5/5\n",
            "1236/1236 [==============================] - 2s 2ms/step - loss: 1.1133 - accuracy: 0.6835\n",
            "618/618 [==============================] - 1s 989us/step\n"
          ]
        },
        {
          "name": "stderr",
          "output_type": "stream",
          "text": [
            "/usr/local/lib/python3.7/dist-packages/keras/optimizer_v2/adam.py:105: UserWarning: The `lr` argument is deprecated, use `learning_rate` instead.\n",
            "  super(Adam, self).__init__(name, **kwargs)\n"
          ]
        },
        {
          "name": "stdout",
          "output_type": "stream",
          "text": [
            "Epoch 1/5\n",
            "1236/1236 [==============================] - 3s 2ms/step - loss: 1.5621 - accuracy: 0.5714\n",
            "Epoch 2/5\n",
            "1236/1236 [==============================] - 2s 2ms/step - loss: 1.2545 - accuracy: 0.6409\n",
            "Epoch 3/5\n",
            "1236/1236 [==============================] - 2s 2ms/step - loss: 1.2016 - accuracy: 0.6569\n",
            "Epoch 4/5\n",
            "1236/1236 [==============================] - 2s 2ms/step - loss: 1.1726 - accuracy: 0.6641\n",
            "Epoch 5/5\n",
            "1236/1236 [==============================] - 2s 2ms/step - loss: 1.1672 - accuracy: 0.6685\n",
            "618/618 [==============================] - 1s 987us/step\n"
          ]
        },
        {
          "name": "stderr",
          "output_type": "stream",
          "text": [
            "/usr/local/lib/python3.7/dist-packages/keras/optimizer_v2/adam.py:105: UserWarning: The `lr` argument is deprecated, use `learning_rate` instead.\n",
            "  super(Adam, self).__init__(name, **kwargs)\n"
          ]
        },
        {
          "name": "stdout",
          "output_type": "stream",
          "text": [
            "Epoch 1/5\n",
            "1236/1236 [==============================] - 3s 2ms/step - loss: 1.5865 - accuracy: 0.5637\n",
            "Epoch 2/5\n",
            "1236/1236 [==============================] - 2s 2ms/step - loss: 1.2541 - accuracy: 0.6379\n",
            "Epoch 3/5\n",
            "1236/1236 [==============================] - 2s 2ms/step - loss: 1.1868 - accuracy: 0.6553\n",
            "Epoch 4/5\n",
            "1236/1236 [==============================] - 2s 2ms/step - loss: 1.1564 - accuracy: 0.6652\n",
            "Epoch 5/5\n",
            "1236/1236 [==============================] - 2s 2ms/step - loss: 1.1341 - accuracy: 0.6705\n",
            "618/618 [==============================] - 1s 1ms/step\n"
          ]
        },
        {
          "name": "stderr",
          "output_type": "stream",
          "text": [
            "/usr/local/lib/python3.7/dist-packages/keras/optimizer_v2/adam.py:105: UserWarning: The `lr` argument is deprecated, use `learning_rate` instead.\n",
            "  super(Adam, self).__init__(name, **kwargs)\n"
          ]
        },
        {
          "name": "stdout",
          "output_type": "stream",
          "text": [
            "Epoch 1/5\n",
            "1236/1236 [==============================] - 3s 2ms/step - loss: 3.7836 - accuracy: 0.0496\n",
            "Epoch 2/5\n",
            "1236/1236 [==============================] - 2s 2ms/step - loss: 3.7130 - accuracy: 0.0507\n",
            "Epoch 3/5\n",
            "1236/1236 [==============================] - 3s 2ms/step - loss: 3.7135 - accuracy: 0.0510\n",
            "Epoch 4/5\n",
            "1236/1236 [==============================] - 3s 2ms/step - loss: 3.7122 - accuracy: 0.0503\n",
            "Epoch 5/5\n",
            "1236/1236 [==============================] - 2s 2ms/step - loss: 3.7151 - accuracy: 0.0525\n",
            "618/618 [==============================] - 1s 1ms/step\n"
          ]
        },
        {
          "name": "stderr",
          "output_type": "stream",
          "text": [
            "/usr/local/lib/python3.7/dist-packages/keras/optimizer_v2/adam.py:105: UserWarning: The `lr` argument is deprecated, use `learning_rate` instead.\n",
            "  super(Adam, self).__init__(name, **kwargs)\n"
          ]
        },
        {
          "name": "stdout",
          "output_type": "stream",
          "text": [
            "Epoch 1/5\n",
            "1236/1236 [==============================] - 3s 2ms/step - loss: 3.4103 - accuracy: 0.1189\n",
            "Epoch 2/5\n",
            "1236/1236 [==============================] - 2s 2ms/step - loss: 3.2031 - accuracy: 0.1579\n",
            "Epoch 3/5\n",
            "1236/1236 [==============================] - 2s 2ms/step - loss: 3.2100 - accuracy: 0.1600\n",
            "Epoch 4/5\n",
            "1236/1236 [==============================] - 2s 2ms/step - loss: 3.1982 - accuracy: 0.1563\n",
            "Epoch 5/5\n",
            "1236/1236 [==============================] - 2s 2ms/step - loss: 3.1695 - accuracy: 0.1601\n",
            "618/618 [==============================] - 1s 993us/step\n"
          ]
        },
        {
          "name": "stderr",
          "output_type": "stream",
          "text": [
            "/usr/local/lib/python3.7/dist-packages/keras/optimizer_v2/adam.py:105: UserWarning: The `lr` argument is deprecated, use `learning_rate` instead.\n",
            "  super(Adam, self).__init__(name, **kwargs)\n"
          ]
        },
        {
          "name": "stdout",
          "output_type": "stream",
          "text": [
            "Epoch 1/5\n",
            "1236/1236 [==============================] - 3s 2ms/step - loss: 3.7719 - accuracy: 0.0494\n",
            "Epoch 2/5\n",
            "1236/1236 [==============================] - 2s 2ms/step - loss: 3.7137 - accuracy: 0.0508\n",
            "Epoch 3/5\n",
            "1236/1236 [==============================] - 2s 2ms/step - loss: 3.7138 - accuracy: 0.0495\n",
            "Epoch 4/5\n",
            "1236/1236 [==============================] - 2s 2ms/step - loss: 3.7122 - accuracy: 0.0515\n",
            "Epoch 5/5\n",
            "1236/1236 [==============================] - 2s 2ms/step - loss: 3.7136 - accuracy: 0.0501\n",
            "618/618 [==============================] - 1s 1ms/step\n"
          ]
        },
        {
          "name": "stderr",
          "output_type": "stream",
          "text": [
            "/usr/local/lib/python3.7/dist-packages/keras/optimizer_v2/adam.py:105: UserWarning: The `lr` argument is deprecated, use `learning_rate` instead.\n",
            "  super(Adam, self).__init__(name, **kwargs)\n"
          ]
        },
        {
          "name": "stdout",
          "output_type": "stream",
          "text": [
            "Epoch 1/5\n",
            "1236/1236 [==============================] - 3s 2ms/step - loss: 1.5325 - accuracy: 0.5752\n",
            "Epoch 2/5\n",
            "1236/1236 [==============================] - 2s 2ms/step - loss: 1.2191 - accuracy: 0.6479\n",
            "Epoch 3/5\n",
            "1236/1236 [==============================] - 3s 2ms/step - loss: 1.1684 - accuracy: 0.6612\n",
            "Epoch 4/5\n",
            "1236/1236 [==============================] - 3s 2ms/step - loss: 1.1282 - accuracy: 0.6735\n",
            "Epoch 5/5\n",
            "1236/1236 [==============================] - 2s 2ms/step - loss: 1.1053 - accuracy: 0.6807\n",
            "618/618 [==============================] - 1s 1ms/step\n"
          ]
        },
        {
          "name": "stderr",
          "output_type": "stream",
          "text": [
            "/usr/local/lib/python3.7/dist-packages/keras/optimizer_v2/adam.py:105: UserWarning: The `lr` argument is deprecated, use `learning_rate` instead.\n",
            "  super(Adam, self).__init__(name, **kwargs)\n"
          ]
        },
        {
          "name": "stdout",
          "output_type": "stream",
          "text": [
            "Epoch 1/5\n",
            "1236/1236 [==============================] - 3s 2ms/step - loss: 1.5838 - accuracy: 0.5628\n",
            "Epoch 2/5\n",
            "1236/1236 [==============================] - 2s 2ms/step - loss: 1.2520 - accuracy: 0.6405\n",
            "Epoch 3/5\n",
            "1236/1236 [==============================] - 2s 2ms/step - loss: 1.1713 - accuracy: 0.6614\n",
            "Epoch 4/5\n",
            "1236/1236 [==============================] - 2s 2ms/step - loss: 1.1479 - accuracy: 0.6674\n",
            "Epoch 5/5\n",
            "1236/1236 [==============================] - 3s 2ms/step - loss: 1.1419 - accuracy: 0.6693\n",
            "618/618 [==============================] - 1s 996us/step\n"
          ]
        },
        {
          "name": "stderr",
          "output_type": "stream",
          "text": [
            "/usr/local/lib/python3.7/dist-packages/keras/optimizer_v2/adam.py:105: UserWarning: The `lr` argument is deprecated, use `learning_rate` instead.\n",
            "  super(Adam, self).__init__(name, **kwargs)\n"
          ]
        },
        {
          "name": "stdout",
          "output_type": "stream",
          "text": [
            "Epoch 1/5\n",
            "1236/1236 [==============================] - 3s 2ms/step - loss: 1.5612 - accuracy: 0.5693\n",
            "Epoch 2/5\n",
            "1236/1236 [==============================] - 3s 2ms/step - loss: 1.2141 - accuracy: 0.6491\n",
            "Epoch 3/5\n",
            "1236/1236 [==============================] - 2s 2ms/step - loss: 1.1607 - accuracy: 0.6647\n",
            "Epoch 4/5\n",
            "1236/1236 [==============================] - 2s 2ms/step - loss: 1.1204 - accuracy: 0.6724\n",
            "Epoch 5/5\n",
            "1236/1236 [==============================] - 2s 2ms/step - loss: 1.1167 - accuracy: 0.6741\n",
            "618/618 [==============================] - 1s 988us/step\n"
          ]
        },
        {
          "name": "stderr",
          "output_type": "stream",
          "text": [
            "/usr/local/lib/python3.7/dist-packages/keras/optimizer_v2/adam.py:105: UserWarning: The `lr` argument is deprecated, use `learning_rate` instead.\n",
            "  super(Adam, self).__init__(name, **kwargs)\n"
          ]
        },
        {
          "name": "stdout",
          "output_type": "stream",
          "text": [
            "Epoch 1/5\n",
            "1854/1854 [==============================] - 4s 2ms/step - loss: 1.4693 - accuracy: 0.5887\n",
            "Epoch 2/5\n",
            "1854/1854 [==============================] - 4s 2ms/step - loss: 1.2044 - accuracy: 0.6567\n",
            "Epoch 3/5\n",
            "1854/1854 [==============================] - 4s 2ms/step - loss: 1.1714 - accuracy: 0.6643\n",
            "Epoch 4/5\n",
            "1854/1854 [==============================] - 4s 2ms/step - loss: 1.1468 - accuracy: 0.6716\n",
            "Epoch 5/5\n",
            "1854/1854 [==============================] - 4s 2ms/step - loss: 1.1341 - accuracy: 0.6769\n"
          ]
        },
        {
          "data": {
            "text/plain": [
              "GridSearchCV(cv=3,\n",
              "             estimator=KerasClassifier(activation_function='relu', loss='sparse_categorical_crossentropy', metrics=['accuracy'], model=<function build_mlp at 0x7f529c8560e0>, n_hidden_layers=3, n_hidden_neurons=50, optimizer='adam', optimizer__lr=0.01),\n",
              "             param_grid={'activation_function': ['relu', 'sigmoid', 'tanh'],\n",
              "                         'optimizer__lr': [0.1, 0.01]})"
            ]
          },
          "execution_count": 28,
          "metadata": {},
          "output_type": "execute_result"
        }
      ],
      "source": [
        "from sklearn.model_selection import GridSearchCV\n",
        "\n",
        "param_grid = {\n",
        "    \"optimizer__lr\": [0.1, 0.01],\n",
        "    \"activation_function\": [\"relu\", \"sigmoid\", \"tanh\"]\n",
        "}\n",
        "\n",
        "grid_search_cv = GridSearchCV(mlp_classifier, param_grid, cv=3)\n",
        "grid_search_cv.fit(X_train, y_train, epochs=5)"
      ],
      "id": "2sH3rI01XGWA"
    },
    {
      "cell_type": "code",
      "execution_count": null,
      "metadata": {
        "colab": {
          "base_uri": "https://localhost:8080/"
        },
        "id": "qByPn_cyXSN4",
        "outputId": "4ac1ab1b-e1e6-4b6e-9b21-8e780e52f1fd"
      },
      "outputs": [
        {
          "name": "stdout",
          "output_type": "stream",
          "text": [
            "Best: 0.660610 using {'activation_function': 'tanh', 'optimizer__lr': 0.01}\n"
          ]
        }
      ],
      "source": [
        "# summarize results\n",
        "print(\"Best: %f using %s\" % (grid_search_cv.best_score_, grid_search_cv.best_params_))"
      ],
      "id": "qByPn_cyXSN4"
    },
    {
      "cell_type": "code",
      "execution_count": null,
      "metadata": {
        "colab": {
          "base_uri": "https://localhost:8080/"
        },
        "id": "_RtwqLiyLgDU",
        "outputId": "8b4bb595-82c4-4dd6-940a-0168343611a3"
      },
      "outputs": [
        {
          "name": "stderr",
          "output_type": "stream",
          "text": [
            "/usr/local/lib/python3.7/dist-packages/keras/optimizer_v2/adam.py:105: UserWarning: The `lr` argument is deprecated, use `learning_rate` instead.\n",
            "  super(Adam, self).__init__(name, **kwargs)\n"
          ]
        },
        {
          "name": "stdout",
          "output_type": "stream",
          "text": [
            "Epoch 1/5\n",
            "1236/1236 [==============================] - 3s 2ms/step - loss: 1.5519 - accuracy: 0.5707\n",
            "Epoch 2/5\n",
            "1236/1236 [==============================] - 2s 2ms/step - loss: 1.2294 - accuracy: 0.6455\n",
            "Epoch 3/5\n",
            "1236/1236 [==============================] - 2s 2ms/step - loss: 1.1665 - accuracy: 0.6647\n",
            "Epoch 4/5\n",
            "1236/1236 [==============================] - 3s 2ms/step - loss: 1.1451 - accuracy: 0.6709\n",
            "Epoch 5/5\n",
            "1236/1236 [==============================] - 2s 2ms/step - loss: 1.1240 - accuracy: 0.6775\n",
            "618/618 [==============================] - 1s 1ms/step\n"
          ]
        },
        {
          "name": "stderr",
          "output_type": "stream",
          "text": [
            "/usr/local/lib/python3.7/dist-packages/keras/optimizer_v2/adam.py:105: UserWarning: The `lr` argument is deprecated, use `learning_rate` instead.\n",
            "  super(Adam, self).__init__(name, **kwargs)\n"
          ]
        },
        {
          "name": "stdout",
          "output_type": "stream",
          "text": [
            "Epoch 1/5\n",
            "1236/1236 [==============================] - 3s 2ms/step - loss: 1.5473 - accuracy: 0.5763\n",
            "Epoch 2/5\n",
            "1236/1236 [==============================] - 2s 2ms/step - loss: 1.2200 - accuracy: 0.6532\n",
            "Epoch 3/5\n",
            "1236/1236 [==============================] - 3s 2ms/step - loss: 1.1688 - accuracy: 0.6665\n",
            "Epoch 4/5\n",
            "1236/1236 [==============================] - 3s 2ms/step - loss: 1.1479 - accuracy: 0.6731\n",
            "Epoch 5/5\n",
            "1236/1236 [==============================] - 2s 2ms/step - loss: 1.1370 - accuracy: 0.6761\n",
            "618/618 [==============================] - 1s 1ms/step\n"
          ]
        },
        {
          "name": "stderr",
          "output_type": "stream",
          "text": [
            "/usr/local/lib/python3.7/dist-packages/keras/optimizer_v2/adam.py:105: UserWarning: The `lr` argument is deprecated, use `learning_rate` instead.\n",
            "  super(Adam, self).__init__(name, **kwargs)\n"
          ]
        },
        {
          "name": "stdout",
          "output_type": "stream",
          "text": [
            "Epoch 1/5\n",
            "1236/1236 [==============================] - 3s 2ms/step - loss: 1.5567 - accuracy: 0.5690\n",
            "Epoch 2/5\n",
            "1236/1236 [==============================] - 3s 2ms/step - loss: 1.2379 - accuracy: 0.6426\n",
            "Epoch 3/5\n",
            "1236/1236 [==============================] - 2s 2ms/step - loss: 1.1710 - accuracy: 0.6615\n",
            "Epoch 4/5\n",
            "1236/1236 [==============================] - 2s 2ms/step - loss: 1.1411 - accuracy: 0.6678\n",
            "Epoch 5/5\n",
            "1236/1236 [==============================] - 2s 2ms/step - loss: 1.1276 - accuracy: 0.6721\n",
            "618/618 [==============================] - 1s 1ms/step\n"
          ]
        },
        {
          "name": "stderr",
          "output_type": "stream",
          "text": [
            "/usr/local/lib/python3.7/dist-packages/keras/optimizer_v2/adam.py:105: UserWarning: The `lr` argument is deprecated, use `learning_rate` instead.\n",
            "  super(Adam, self).__init__(name, **kwargs)\n"
          ]
        },
        {
          "name": "stdout",
          "output_type": "stream",
          "text": [
            "Epoch 1/10\n",
            "1236/1236 [==============================] - 3s 2ms/step - loss: 1.5605 - accuracy: 0.5732\n",
            "Epoch 2/10\n",
            "1236/1236 [==============================] - 2s 2ms/step - loss: 1.2517 - accuracy: 0.6426\n",
            "Epoch 3/10\n",
            "1236/1236 [==============================] - 2s 2ms/step - loss: 1.1895 - accuracy: 0.6573\n",
            "Epoch 4/10\n",
            "1236/1236 [==============================] - 2s 2ms/step - loss: 1.1563 - accuracy: 0.6679\n",
            "Epoch 5/10\n",
            "1236/1236 [==============================] - 2s 2ms/step - loss: 1.1602 - accuracy: 0.6682\n",
            "Epoch 6/10\n",
            "1236/1236 [==============================] - 2s 2ms/step - loss: 1.1330 - accuracy: 0.6750\n",
            "Epoch 7/10\n",
            "1236/1236 [==============================] - 2s 2ms/step - loss: 1.1242 - accuracy: 0.6776\n",
            "Epoch 8/10\n",
            "1236/1236 [==============================] - 2s 2ms/step - loss: 1.1302 - accuracy: 0.6775\n",
            "Epoch 9/10\n",
            "1236/1236 [==============================] - 2s 2ms/step - loss: 1.1344 - accuracy: 0.6766\n",
            "Epoch 10/10\n",
            "1236/1236 [==============================] - 2s 2ms/step - loss: 1.1191 - accuracy: 0.6817\n",
            "618/618 [==============================] - 1s 1ms/step\n"
          ]
        },
        {
          "name": "stderr",
          "output_type": "stream",
          "text": [
            "/usr/local/lib/python3.7/dist-packages/keras/optimizer_v2/adam.py:105: UserWarning: The `lr` argument is deprecated, use `learning_rate` instead.\n",
            "  super(Adam, self).__init__(name, **kwargs)\n"
          ]
        },
        {
          "name": "stdout",
          "output_type": "stream",
          "text": [
            "Epoch 1/10\n",
            "1236/1236 [==============================] - 3s 2ms/step - loss: 1.5783 - accuracy: 0.5666\n",
            "Epoch 2/10\n",
            "1236/1236 [==============================] - 2s 2ms/step - loss: 1.2396 - accuracy: 0.6402\n",
            "Epoch 3/10\n",
            "1236/1236 [==============================] - 2s 2ms/step - loss: 1.1775 - accuracy: 0.6599\n",
            "Epoch 4/10\n",
            "1236/1236 [==============================] - 2s 2ms/step - loss: 1.1534 - accuracy: 0.6680\n",
            "Epoch 5/10\n",
            "1236/1236 [==============================] - 2s 2ms/step - loss: 1.1387 - accuracy: 0.6721\n",
            "Epoch 6/10\n",
            "1236/1236 [==============================] - 2s 2ms/step - loss: 1.1338 - accuracy: 0.6753\n",
            "Epoch 7/10\n",
            "1236/1236 [==============================] - 2s 2ms/step - loss: 1.1264 - accuracy: 0.6786\n",
            "Epoch 8/10\n",
            "1236/1236 [==============================] - 3s 2ms/step - loss: 1.1142 - accuracy: 0.6822\n",
            "Epoch 9/10\n",
            "1236/1236 [==============================] - 2s 2ms/step - loss: 1.1232 - accuracy: 0.6799\n",
            "Epoch 10/10\n",
            "1236/1236 [==============================] - 2s 2ms/step - loss: 1.0862 - accuracy: 0.6878\n",
            "618/618 [==============================] - 1s 990us/step\n"
          ]
        },
        {
          "name": "stderr",
          "output_type": "stream",
          "text": [
            "/usr/local/lib/python3.7/dist-packages/keras/optimizer_v2/adam.py:105: UserWarning: The `lr` argument is deprecated, use `learning_rate` instead.\n",
            "  super(Adam, self).__init__(name, **kwargs)\n"
          ]
        },
        {
          "name": "stdout",
          "output_type": "stream",
          "text": [
            "Epoch 1/10\n",
            "1236/1236 [==============================] - 3s 2ms/step - loss: 1.5757 - accuracy: 0.5634\n",
            "Epoch 2/10\n",
            "1236/1236 [==============================] - 2s 2ms/step - loss: 1.2604 - accuracy: 0.6400\n",
            "Epoch 3/10\n",
            "1236/1236 [==============================] - 3s 2ms/step - loss: 1.1965 - accuracy: 0.6539\n",
            "Epoch 4/10\n",
            "1236/1236 [==============================] - 2s 2ms/step - loss: 1.1652 - accuracy: 0.6635\n",
            "Epoch 5/10\n",
            "1236/1236 [==============================] - 2s 2ms/step - loss: 1.1398 - accuracy: 0.6723\n",
            "Epoch 6/10\n",
            "1236/1236 [==============================] - 2s 2ms/step - loss: 1.1288 - accuracy: 0.6736\n",
            "Epoch 7/10\n",
            "1236/1236 [==============================] - 2s 2ms/step - loss: 1.1208 - accuracy: 0.6785\n",
            "Epoch 8/10\n",
            "1236/1236 [==============================] - 2s 2ms/step - loss: 1.1036 - accuracy: 0.6802\n",
            "Epoch 9/10\n",
            "1236/1236 [==============================] - 2s 2ms/step - loss: 1.1051 - accuracy: 0.6832\n",
            "Epoch 10/10\n",
            "1236/1236 [==============================] - 2s 2ms/step - loss: 1.1089 - accuracy: 0.6818\n",
            "618/618 [==============================] - 1s 1ms/step\n"
          ]
        },
        {
          "name": "stderr",
          "output_type": "stream",
          "text": [
            "/usr/local/lib/python3.7/dist-packages/keras/optimizer_v2/adam.py:105: UserWarning: The `lr` argument is deprecated, use `learning_rate` instead.\n",
            "  super(Adam, self).__init__(name, **kwargs)\n"
          ]
        },
        {
          "name": "stdout",
          "output_type": "stream",
          "text": [
            "Epoch 1/10\n",
            "1854/1854 [==============================] - 5s 2ms/step - loss: 1.4987 - accuracy: 0.5818\n",
            "Epoch 2/10\n",
            "1854/1854 [==============================] - 4s 2ms/step - loss: 1.2248 - accuracy: 0.6492\n",
            "Epoch 3/10\n",
            "1854/1854 [==============================] - 4s 2ms/step - loss: 1.1885 - accuracy: 0.6571\n",
            "Epoch 4/10\n",
            "1854/1854 [==============================] - 4s 2ms/step - loss: 1.1631 - accuracy: 0.6662\n",
            "Epoch 5/10\n",
            "1854/1854 [==============================] - 4s 2ms/step - loss: 1.1603 - accuracy: 0.6671\n",
            "Epoch 6/10\n",
            "1854/1854 [==============================] - 4s 2ms/step - loss: 1.1470 - accuracy: 0.6732\n",
            "Epoch 7/10\n",
            "1854/1854 [==============================] - 4s 2ms/step - loss: 1.1345 - accuracy: 0.6772\n",
            "Epoch 8/10\n",
            "1854/1854 [==============================] - 4s 2ms/step - loss: 1.1354 - accuracy: 0.6777\n",
            "Epoch 9/10\n",
            "1854/1854 [==============================] - 4s 2ms/step - loss: 1.1328 - accuracy: 0.6799\n",
            "Epoch 10/10\n",
            "1854/1854 [==============================] - 4s 2ms/step - loss: 1.1372 - accuracy: 0.6823\n"
          ]
        }
      ],
      "source": [
        "from sklearn.model_selection import GridSearchCV\n",
        "# from keras.wrappers.scikit_learn import KerasClassifier\n",
        "model = KerasClassifier(build_fn=mlp_classifier, verbose=0)\n",
        "# define the grid search parameters\n",
        "epochs = [5, 10]\n",
        "param_grid = dict(epochs=epochs)\n",
        "grid = GridSearchCV(estimator=mlp_classifier, param_grid=param_grid,cv=3)\n",
        "grid_result = grid.fit(X_train, y_train)"
      ],
      "id": "_RtwqLiyLgDU"
    },
    {
      "cell_type": "code",
      "execution_count": null,
      "metadata": {
        "colab": {
          "base_uri": "https://localhost:8080/"
        },
        "id": "vGqpD6GnLtFY",
        "outputId": "c4f3151d-19fd-4935-d557-0b1d0b46fdca"
      },
      "outputs": [
        {
          "name": "stdout",
          "output_type": "stream",
          "text": [
            "Best: 0.671634 using {'epochs': 10}\n"
          ]
        }
      ],
      "source": [
        "# summarize results\n",
        "print(\"Best: %f using %s\" % (grid_result.best_score_, grid_result.best_params_))"
      ],
      "id": "vGqpD6GnLtFY"
    },
    {
      "cell_type": "code",
      "execution_count": null,
      "metadata": {
        "id": "hlDv8QQuPA09"
      },
      "outputs": [],
      "source": [
        "from keras import optimizers\n",
        "from tensorflow import keras\n",
        "from tensorflow.keras import layers\n",
        "mlp_model = keras.Sequential([\n",
        "    keras.layers.Flatten(input_shape=[28, 28]),\n",
        "    keras.layers.Dense(300, activation=\"sigmoid\"),\n",
        "    keras.layers.Dense(100, activation=\"sigmoid\"),\n",
        "    keras.layers.Dense(70, activation=\"softmax\")\n",
        "])\n",
        "optm = tf.keras.optimizers.Adam(learning_rate=0.01)\n",
        "# Compile model, optimze the speed by using Adam optimiser\n",
        "mlp_model.compile(optimizer=optm,loss='sparse_categorical_crossentropy',metrics=['accuracy'])"
      ],
      "id": "hlDv8QQuPA09"
    },
    {
      "cell_type": "code",
      "execution_count": null,
      "metadata": {
        "colab": {
          "base_uri": "https://localhost:8080/"
        },
        "id": "SAaJPQZSPArd",
        "outputId": "6715a2f7-a63e-40a4-823a-4cce79b56dd4"
      },
      "outputs": [
        {
          "name": "stdout",
          "output_type": "stream",
          "text": [
            "Epoch 1/10\n",
            "1854/1854 [==============================] - 6s 3ms/step - loss: 1.1274 - accuracy: 0.6732 - val_loss: 0.8621 - val_accuracy: 0.7278\n",
            "Epoch 2/10\n",
            "1854/1854 [==============================] - 6s 3ms/step - loss: 0.7912 - accuracy: 0.7473 - val_loss: 0.8142 - val_accuracy: 0.7442\n",
            "Epoch 3/10\n",
            "1854/1854 [==============================] - 6s 3ms/step - loss: 0.7384 - accuracy: 0.7598 - val_loss: 0.8304 - val_accuracy: 0.7380\n",
            "Epoch 4/10\n",
            "1854/1854 [==============================] - 6s 3ms/step - loss: 0.7178 - accuracy: 0.7657 - val_loss: 0.8010 - val_accuracy: 0.7494\n",
            "Epoch 5/10\n",
            "1854/1854 [==============================] - 6s 3ms/step - loss: 0.6954 - accuracy: 0.7734 - val_loss: 0.7843 - val_accuracy: 0.7499\n",
            "Epoch 6/10\n",
            "1854/1854 [==============================] - 6s 3ms/step - loss: 0.6801 - accuracy: 0.7769 - val_loss: 0.7776 - val_accuracy: 0.7495\n",
            "Epoch 7/10\n",
            "1854/1854 [==============================] - 6s 3ms/step - loss: 0.6763 - accuracy: 0.7777 - val_loss: 0.8136 - val_accuracy: 0.7486\n",
            "Epoch 8/10\n",
            "1854/1854 [==============================] - 6s 3ms/step - loss: 0.6603 - accuracy: 0.7813 - val_loss: 0.7740 - val_accuracy: 0.7602\n",
            "Epoch 9/10\n",
            "1854/1854 [==============================] - 6s 3ms/step - loss: 0.6453 - accuracy: 0.7858 - val_loss: 0.7501 - val_accuracy: 0.7635\n",
            "Epoch 10/10\n",
            "1854/1854 [==============================] - 6s 3ms/step - loss: 0.6495 - accuracy: 0.7838 - val_loss: 0.7869 - val_accuracy: 0.7532\n"
          ]
        }
      ],
      "source": [
        "# Train the model \n",
        "epochs = 10\n",
        "history = mlp_model.fit(X_train, y_train, \n",
        "                    epochs=epochs, validation_data=(X_v, y_v))"
      ],
      "id": "SAaJPQZSPArd"
    },
    {
      "cell_type": "code",
      "execution_count": null,
      "metadata": {
        "colab": {
          "base_uri": "https://localhost:8080/"
        },
        "id": "vLCRVe4aP3ZA",
        "outputId": "d3018bd8-00f8-4618-b791-073f9935541c"
      },
      "outputs": [
        {
          "name": "stdout",
          "output_type": "stream",
          "text": [
            "364/364 [==============================] - 1s 2ms/step - loss: 0.7435 - accuracy: 0.7643\n",
            "Accuracy on test data: 0.7643\n"
          ]
        }
      ],
      "source": [
        "loss, accuracy = mlp_model.evaluate(X_test, y_test)\n",
        "print(f\"Accuracy on test data: {accuracy:.4f}\")"
      ],
      "id": "vLCRVe4aP3ZA"
    },
    {
      "cell_type": "code",
      "execution_count": null,
      "metadata": {
        "colab": {
          "base_uri": "https://localhost:8080/",
          "height": 350
        },
        "id": "ZQoXH5jwX3QD",
        "outputId": "eb722aae-c4d8-4355-bbb3-86bdb741238f"
      },
      "outputs": [
        {
          "data": {
            "image/png": "[encoded data removed]",
            "text/plain": [
              "<Figure size 576x360 with 1 Axes>"
            ]
          },
          "metadata": {},
          "output_type": "display_data"
        }
      ],
      "source": [
        "import pandas as pd\n",
        "# Convert the history dictionary to a Pandas dataframe and extract the accuracies\n",
        "accuracies = pd.DataFrame(history.history)[['accuracy', 'val_accuracy']]\n",
        "# Plot the accuracies\n",
        "accuracies.plot(figsize=(8, 5))\n",
        "plt.grid(True)\n",
        "plt.gca().set_ylim(0, 1)\n",
        "plt.xlabel('Epoch')\n",
        "plt.ylabel('Accuracy')\n",
        "plt.title('Plot for MLP')\n",
        "plt.show()"
      ],
      "id": "ZQoXH5jwX3QD"
    },
    {
      "cell_type": "code",
      "execution_count": null,
      "metadata": {
        "colab": {
          "base_uri": "https://localhost:8080/",
          "height": 283
        },
        "id": "8j_ItZioOrmH",
        "outputId": "3756de66-1c86-4962-cdbe-b85b69c1964e"
      },
      "outputs": [
        {
          "data": {
            "image/png": "[encoded data removed]",
            "text/plain": [
              "<Figure size 432x288 with 1 Axes>"
            ]
          },
          "metadata": {},
          "output_type": "display_data"
        }
      ],
      "source": [
        "#pca\n",
        "from sklearn.decomposition import PCA\n",
        "# Perform PCA without reducing dimensionality\n",
        "pca = PCA()\n",
        "pca.fit(X_train_svm)\n",
        "cumsum = np.cumsum(pca.explained_variance_ratio_)\n",
        "\n",
        "# Plot the explained variance vs number of dimensions\n",
        "\n",
        "plt.figure(figsize = (6,4))\n",
        "plt.plot(cumsum, linewidth=3)\n",
        "plt.axis([0, 784, 0, 1]) \n",
        "plt.xlabel(\"dimensions\")\n",
        "plt.ylabel(\"explained variance\")\n",
        "plt.grid(True)\n",
        "plt.show()"
      ],
      "id": "8j_ItZioOrmH"
    },
    {
      "cell_type": "code",
      "execution_count": null,
      "metadata": {
        "colab": {
          "base_uri": "https://localhost:8080/"
        },
        "id": "aLblHhIrTRNV",
        "outputId": "d6545315-56a1-4308-eb72-45cd2c872496"
      },
      "outputs": [
        {
          "name": "stdout",
          "output_type": "stream",
          "text": [
            "Original shape of training data: (59324, 784)\n",
            "Reduced shape of training data: (59324, 62)\n"
          ]
        }
      ],
      "source": [
        "from sklearn.decomposition import PCA\n",
        "\n",
        "pca = PCA(n_components=0.9).fit(X_train_svm)\n",
        "\n",
        "X_train_pca = pca.transform(X_train_svm)\n",
        "X_v_pca = pca.transform(X_v_svm)\n",
        "\n",
        "print(\"Original shape of training data: {}\".format(str(X_train_svm.shape)))\n",
        "print(\"Reduced shape of training data: {}\".format(str(X_train_pca.shape)))"
      ],
      "id": "aLblHhIrTRNV"
    },
    {
      "cell_type": "code",
      "execution_count": null,
      "metadata": {
        "colab": {
          "background_save": true,
          "base_uri": "https://localhost:8080/"
        },
        "id": "4SGj4uOiTU7Y",
        "outputId": "3f4fb632-9cbd-401e-ff58-dcd9205d8171"
      },
      "outputs": [
        {
          "name": "stdout",
          "output_type": "stream",
          "text": [
            "Parameter grid:\n",
            "{'C': [0.1, 1, 10], 'gamma': [1, 0.01], 'kernel': ['rbf']}\n",
            "Test set score: 0.82\n",
            "Best parameters: {'C': 10, 'gamma': 0.01, 'kernel': 'rbf'}\n",
            "Best cross-validation score: 0.82\n",
            "Best estimator:\n",
            "SVC(C=10, gamma=0.01)\n"
          ]
        }
      ],
      "source": [
        "## choose polynomial kernal for grid search\n",
        "from sklearn.metrics import accuracy_score\n",
        "## Build svm model, as svm has linear, polynomial and RBF, try all of them and find the one that provide best accuracy\n",
        "from sklearn.svm import SVC\n",
        "from sklearn.model_selection import GridSearchCV\n",
        "param_grid = {'C': [0.1,1, 10],\n",
        "              'gamma': [1,0.01],\n",
        "              'kernel': ['rbf']}\n",
        "print(\"Parameter grid:\\n{}\".format(param_grid))\n",
        "grid_search = GridSearchCV(SVC(kernel=\"rbf\"), param_grid, cv=5,\n",
        "                          return_train_score=True)\n",
        "\n",
        "grid_search.fit(X_train_pca, y_train_svm)\n",
        "print(\"Test set score: {:.2f}\".format(grid_search.score(X_v_pca, y_v_svm)))\n",
        "print(\"Best parameters: {}\".format(grid_search.best_params_))\n",
        "print(\"Best cross-validation score: {:.2f}\".format(grid_search.best_score_))\n",
        "print(\"Best estimator:\\n{}\".format(grid_search.best_estimator_))"
      ],
      "id": "4SGj4uOiTU7Y"
    },
    {
      "cell_type": "code",
      "execution_count": null,
      "metadata": {
        "id": "oCE-Cv0AZ9pB"
      },
      "outputs": [],
      "source": [
        "grid_search.cv_results_"
      ],
      "id": "oCE-Cv0AZ9pB"
    },
    {
      "cell_type": "code",
      "execution_count": null,
      "metadata": {
        "id": "KYPLhBCuZ_nd"
      },
      "outputs": [],
      "source": [
        "svm_rbf_accuracy =[]\n",
        "svm_rbf_time = []\n",
        "for i in range(len(param_grid['C'])):\n",
        "    svm_rbf_accuracy.append(grid_search.cv_results_['mean_test_score'][i])\n",
        "    svm_rbf_time.append(grid_search.cv_results_['mean_fit_time'][i]+grid_search.cv_results_['mean_score_time'][i])\n",
        "    i  = i+1"
      ],
      "id": "KYPLhBCuZ_nd"
    },
    {
      "cell_type": "code",
      "execution_count": null,
      "metadata": {
        "id": "SHXDM37zaEmJ"
      },
      "outputs": [],
      "source": [
        "\n",
        "plt.plot(param_grid['C'], svm_rbf_accuracy)\n",
        "plt.xticks(param_grid['C'])\n",
        "plt.xlabel(\"C\")\n",
        "plt.ylabel(\"Accuracy\")\n",
        "plt.title(\"Accuracy score (rbf-SVM)\")\n",
        "plt.grid(True)"
      ],
      "id": "SHXDM37zaEmJ"
    },
    {
      "cell_type": "code",
      "execution_count": null,
      "metadata": {
        "id": "-l_cjJFxaHbh"
      },
      "outputs": [],
      "source": [
        "#Time\n",
        "plt.plot(param_grid['C'], svm_rbf_time)\n",
        "plt.xticks(param_grid['C'])\n",
        "plt.xlabel(\"C\")\n",
        "plt.ylabel(\"Time(s)\")\n",
        "plt.title(\"The Running time of rbf SVM\")\n",
        "plt.grid(True)\n",
        "plt.show()#"
      ],
      "id": "-l_cjJFxaHbh"
    },
    {
      "cell_type": "code",
      "execution_count": null,
      "metadata": {
        "id": "7RmtdOj7YXgK"
      },
      "outputs": [],
      "source": [
        "## choose polynomial kernal for grid search\n",
        "from sklearn.metrics import accuracy_score\n",
        "## Build svm model, as svm has linear, polynomial and RBF, try all of them and find the one that provide best accuracy\n",
        "from sklearn.svm import SVC\n",
        "from sklearn.model_selection import GridSearchCV\n",
        "param_grid = {'C': [0.1,1, 10],\n",
        "              'gamma': [1,0.01],\n",
        "              'kernel': ['poly']}\n",
        "print(\"Parameter grid:\\n{}\".format(param_grid))\n",
        "grid_search = GridSearchCV(SVC(kernel=\"poly\", degree=2), param_grid, cv=5,\n",
        "                          return_train_score=True)\n",
        "\n",
        "grid_search.fit(X_train_pca, y_train_svm)\n",
        "print(\"Test set score: {:.2f}\".format(grid_search.score(X_v_pca, y_v_svm)))\n",
        "print(\"Best parameters: {}\".format(grid_search.best_params_))\n",
        "print(\"Best cross-validation score: {:.2f}\".format(grid_search.best_score_))\n",
        "print(\"Best estimator:\\n{}\".format(grid_search.best_estimator_))"
      ],
      "id": "7RmtdOj7YXgK"
    },
    {
      "cell_type": "code",
      "execution_count": null,
      "metadata": {
        "id": "wheZvJqFaiQy"
      },
      "outputs": [],
      "source": [
        "grid_search.cv_results_"
      ],
      "id": "wheZvJqFaiQy"
    },
    {
      "cell_type": "code",
      "execution_count": null,
      "metadata": {
        "id": "eagvgNfWalt7"
      },
      "outputs": [],
      "source": [
        "svm_poly_accuracy =[]\n",
        "svm_poly_time = []\n",
        "for i in range(len(param_grid['C'])):\n",
        "    svm_poly_accuracy.append(grid_search.cv_results_['mean_test_score'][i])\n",
        "    svm_poly_time.append(grid_search.cv_results_['mean_fit_time'][i]+grid_search.cv_results_['mean_score_time'][i])\n",
        "    i  = i+1"
      ],
      "id": "eagvgNfWalt7"
    },
    {
      "cell_type": "code",
      "execution_count": null,
      "metadata": {
        "id": "vzCd850UaoVW"
      },
      "outputs": [],
      "source": [
        "plt.plot(param_grid['C'], svm_poly_accuracy)\n",
        "plt.xticks(param_grid['C'])\n",
        "plt.xlabel(\"C\")\n",
        "plt.ylabel(\"Accuracy\")\n",
        "plt.title(\"Accuracy score (Linear-SVM)\")\n",
        "plt.grid(True)"
      ],
      "id": "vzCd850UaoVW"
    },
    {
      "cell_type": "code",
      "execution_count": null,
      "metadata": {
        "id": "tHE1Xj29aqV7"
      },
      "outputs": [],
      "source": [
        "#Time\n",
        "plt.plot(param_grid['C'], svm_poly_time)\n",
        "plt.xticks(param_grid['C'])\n",
        "plt.xlabel(\"C\")\n",
        "plt.ylabel(\"Time(s)\")\n",
        "plt.title(\"The Running time of linear SVM\")\n",
        "plt.grid(True)\n",
        "plt.show()#"
      ],
      "id": "tHE1Xj29aqV7"
    },
    {
      "cell_type": "code",
      "execution_count": null,
      "metadata": {
        "id": "DQZHpvU2Za1N"
      },
      "outputs": [],
      "source": [
        "## choose polynomial kernal for grid search\n",
        "from sklearn.metrics import accuracy_score\n",
        "## Build svm model, as svm has linear, polynomial and RBF, try all of them and find the one that provide best accuracy\n",
        "from sklearn.svm import SVC\n",
        "from sklearn.model_selection import GridSearchCV\n",
        "param_grid = {'C': [0.1,1, 10],\n",
        "              'kernel': ['linear']}\n",
        "print(\"Parameter grid:\\n{}\".format(param_grid))\n",
        "grid_search = GridSearchCV(SVC(kernel=\"linear\"), param_grid, cv=5,\n",
        "                          return_train_score=True)\n",
        "\n",
        "grid_search.fit(X_train_pca, y_train_svm)\n",
        "print(\"Test set score: {:.2f}\".format(grid_search.score(X_v_pca, y_v_svm)))\n",
        "print(\"Best parameters: {}\".format(grid_search.best_params_))\n",
        "print(\"Best cross-validation score: {:.2f}\".format(grid_search.best_score_))\n",
        "print(\"Best estimator:\\n{}\".format(grid_search.best_estimator_))"
      ],
      "id": "DQZHpvU2Za1N"
    },
    {
      "cell_type": "code",
      "execution_count": null,
      "metadata": {
        "id": "-twKAtHtZvm3"
      },
      "outputs": [],
      "source": [
        "grid_search.cv_results_"
      ],
      "id": "-twKAtHtZvm3"
    },
    {
      "cell_type": "code",
      "execution_count": null,
      "metadata": {
        "id": "2bVuw-sTZysW"
      },
      "outputs": [],
      "source": [
        "svm_linear_accuracy =[]\n",
        "svm_linear_time = []\n",
        "for i in range(len(param_grid['C'])):\n",
        "    svm_linear_accuracy.append(grid_search.cv_results_['mean_test_score'][i])\n",
        "    svm_linear_time.append(grid_search.cv_results_['mean_fit_time'][i]+grid_search.cv_results_['mean_score_time'][i])\n",
        "    i  = i+1"
      ],
      "id": "2bVuw-sTZysW"
    },
    {
      "cell_type": "code",
      "execution_count": null,
      "metadata": {
        "id": "HjjFEUAhZ11f"
      },
      "outputs": [],
      "source": [
        "\n",
        "plt.plot(param_grid['C'], svm_linear_accuracy)\n",
        "plt.xticks(param_grid['C'])\n",
        "plt.xlabel(\"C\")\n",
        "plt.ylabel(\"Accuracy\")\n",
        "plt.title(\"Accuracy score (Linear-SVM)\")\n",
        "plt.grid(True)"
      ],
      "id": "HjjFEUAhZ11f"
    },
    {
      "cell_type": "code",
      "execution_count": null,
      "metadata": {
        "id": "crA7Ho4_Z4NB"
      },
      "outputs": [],
      "source": [
        "#Time\n",
        "plt.plot(param_grid['C'], svm_linear_time)\n",
        "plt.xticks(param_grid['C'])\n",
        "plt.xlabel(\"C\")\n",
        "plt.ylabel(\"Time(s)\")\n",
        "plt.title(\"The Running time of linear SVM\")\n",
        "\n",
        "\n",
        "plt.grid(True)\n",
        "\n",
        "plt.show()"
      ],
      "id": "crA7Ho4_Z4NB"
    }
  ],
  "metadata": {
    "accelerator": "TPU",
    "colab": {
      "machine_shape": "hm",
      "name": "5318_assignment_new.ipynb",
      "provenance": []
    },
    "kernelspec": {
      "display_name": "Python 3 (ipykernel)",
      "language": "python",
      "name": "python3"
    },
    "language_info": {
      "codemirror_mode": {
        "name": "ipython",
        "version": 3
      },
      "file_extension": ".py",
      "mimetype": "text/x-python",
      "name": "python",
      "nbconvert_exporter": "python",
      "pygments_lexer": "ipython3",
      "version": "3.9.7"
    }
  },
  "nbformat": 4,
  "nbformat_minor": 5
}
